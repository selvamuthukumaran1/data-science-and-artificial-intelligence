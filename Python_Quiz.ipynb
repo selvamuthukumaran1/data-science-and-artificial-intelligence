{
  "nbformat": 4,
  "nbformat_minor": 0,
  "metadata": {
    "colab": {
      "provenance": []
    },
    "kernelspec": {
      "name": "python3",
      "display_name": "Python 3"
    },
    "language_info": {
      "name": "python"
    }
  },
  "cells": [
    {
      "cell_type": "code",
      "execution_count": 2,
      "metadata": {
        "colab": {
          "base_uri": "https://localhost:8080/"
        },
        "id": "ywQgOmkF9zfO",
        "outputId": "fcfcc747-7dfb-491f-d27d-2b7281c59bab"
      },
      "outputs": [
        {
          "output_type": "stream",
          "name": "stdout",
          "text": [
            "0\n",
            "The result is 50\n"
          ]
        }
      ],
      "source": [
        "a,b,c = 10,20,50\n",
        "result = (a+b)//c\n",
        "print(result)\n",
        "print(\"The result is {}\".format(c))"
      ]
    },
    {
      "cell_type": "code",
      "source": [
        "a = 10\n",
        "b = 20\n",
        "c = a**2\n",
        "d = b**2\n",
        "result = d-c\n",
        "result -= 100\n",
        "print(result)\n"
      ],
      "metadata": {
        "colab": {
          "base_uri": "https://localhost:8080/"
        },
        "id": "ViUg8rQq-Sxf",
        "outputId": "e643517f-81b9-4c9b-9842-9f2c35c2779f"
      },
      "execution_count": 3,
      "outputs": [
        {
          "output_type": "stream",
          "name": "stdout",
          "text": [
            "200\n"
          ]
        }
      ]
    },
    {
      "cell_type": "code",
      "source": [
        "a = 10\n",
        "b = 20\n",
        "print(a>b)"
      ],
      "metadata": {
        "colab": {
          "base_uri": "https://localhost:8080/"
        },
        "id": "1gTCoHh0-p7Z",
        "outputId": "ae59b299-93a2-4b84-e847-c0cb3a2adf72"
      },
      "execution_count": 4,
      "outputs": [
        {
          "output_type": "stream",
          "name": "stdout",
          "text": [
            "False\n"
          ]
        }
      ]
    },
    {
      "cell_type": "code",
      "source": [
        "a = 10\n",
        "b = 10.0\n",
        "print(a is not b)"
      ],
      "metadata": {
        "colab": {
          "base_uri": "https://localhost:8080/"
        },
        "id": "dBQEK-yA-x-7",
        "outputId": "74c5e5d0-12dd-4e1d-e1e7-125c9d1fb00a"
      },
      "execution_count": 5,
      "outputs": [
        {
          "output_type": "stream",
          "name": "stdout",
          "text": [
            "True\n"
          ]
        }
      ]
    },
    {
      "cell_type": "code",
      "source": [
        "a = [10]\n",
        "b = {10, 20}\n",
        "print(a[0] in b)"
      ],
      "metadata": {
        "colab": {
          "base_uri": "https://localhost:8080/"
        },
        "id": "KNgn1-SC--c_",
        "outputId": "426dc190-6cf7-487c-fe49-b849a12b9dd7"
      },
      "execution_count": 6,
      "outputs": [
        {
          "output_type": "stream",
          "name": "stdout",
          "text": [
            "True\n"
          ]
        }
      ]
    },
    {
      "cell_type": "code",
      "source": [
        "a = 10\n",
        "b = 20\n",
        "print(a > 5 & b > 15)"
      ],
      "metadata": {
        "colab": {
          "base_uri": "https://localhost:8080/"
        },
        "id": "VnbG9Bh6_OEQ",
        "outputId": "39e815b8-c5c0-4e19-f2b0-43800730e276"
      },
      "execution_count": 7,
      "outputs": [
        {
          "output_type": "stream",
          "name": "stdout",
          "text": [
            "False\n"
          ]
        }
      ]
    },
    {
      "cell_type": "code",
      "source": [
        "a = 10\n",
        "b = 20\n",
        "print(a > 5 or b > 15)"
      ],
      "metadata": {
        "colab": {
          "base_uri": "https://localhost:8080/"
        },
        "id": "-QSeoA1u_eIZ",
        "outputId": "c526f4da-3d35-4894-a942-aaccda515e4a"
      },
      "execution_count": 8,
      "outputs": [
        {
          "output_type": "stream",
          "name": "stdout",
          "text": [
            "True\n"
          ]
        }
      ]
    },
    {
      "cell_type": "code",
      "source": [
        "a = [1,2,3,4,5]\n",
        "b = [2,3,4,5,6]\n",
        "print(a[-1],\"and\",b[len(b)-1])"
      ],
      "metadata": {
        "colab": {
          "base_uri": "https://localhost:8080/"
        },
        "id": "LRRf58br_sUV",
        "outputId": "055def8b-8713-4290-9f57-712a8d3e5dc3"
      },
      "execution_count": 11,
      "outputs": [
        {
          "output_type": "stream",
          "name": "stdout",
          "text": [
            "5 and 6\n"
          ]
        }
      ]
    },
    {
      "cell_type": "code",
      "source": [
        "a = list(range(0, 10, 2))\n",
        "print(a[::-1])"
      ],
      "metadata": {
        "colab": {
          "base_uri": "https://localhost:8080/"
        },
        "id": "FbbDUvPEAMMU",
        "outputId": "fe8ec21d-6443-4752-dd21-32f44c265467"
      },
      "execution_count": 12,
      "outputs": [
        {
          "output_type": "stream",
          "name": "stdout",
          "text": [
            "[8, 6, 4, 2, 0]\n"
          ]
        }
      ]
    },
    {
      "cell_type": "code",
      "source": [
        "a = [[29, 'Rajesh'],[32, 'Ramesh'],[41, 'Dev']]\n",
        "b = dict(a)\n",
        "print(b.keys())"
      ],
      "metadata": {
        "colab": {
          "base_uri": "https://localhost:8080/"
        },
        "id": "S7IJ4OSIAgaY",
        "outputId": "e9712475-2b45-405b-f0ff-02123904f9d6"
      },
      "execution_count": 13,
      "outputs": [
        {
          "output_type": "stream",
          "name": "stdout",
          "text": [
            "dict_keys([29, 32, 41])\n"
          ]
        }
      ]
    },
    {
      "cell_type": "code",
      "source": [
        "a = {1: \"Rajesh\", 2: \"Ramesh\", 3: \"Dev\"}\n",
        "\n",
        "b = list(a)\n",
        "\n",
        "print(b[0])\n",
        "\n"
      ],
      "metadata": {
        "colab": {
          "base_uri": "https://localhost:8080/"
        },
        "id": "c2GzRC6LAxDE",
        "outputId": "122a1a01-c346-41c4-8e56-1f9a8cf49a67"
      },
      "execution_count": 14,
      "outputs": [
        {
          "output_type": "stream",
          "name": "stdout",
          "text": [
            "1\n"
          ]
        }
      ]
    },
    {
      "cell_type": "code",
      "source": [
        "a = tuple(range(0,5))\n",
        "print(a)\n",
        "print(a.index(4))"
      ],
      "metadata": {
        "colab": {
          "base_uri": "https://localhost:8080/"
        },
        "id": "0HV6LZdJA91I",
        "outputId": "04784b18-d63b-4515-afdf-1e3a200b9b8a"
      },
      "execution_count": 16,
      "outputs": [
        {
          "output_type": "stream",
          "name": "stdout",
          "text": [
            "(0, 1, 2, 3, 4)\n",
            "4\n"
          ]
        }
      ]
    },
    {
      "cell_type": "code",
      "source": [
        "a = tuple(range(0,10,2))\n",
        "\n",
        "a[4] = 6\n",
        "\n",
        "print(a[4])"
      ],
      "metadata": {
        "colab": {
          "base_uri": "https://localhost:8080/",
          "height": 245
        },
        "id": "_PTHc2FEBQcf",
        "outputId": "973e2fd8-2e0e-41ba-f251-93b8d17bf677"
      },
      "execution_count": 17,
      "outputs": [
        {
          "output_type": "error",
          "ename": "TypeError",
          "evalue": "ignored",
          "traceback": [
            "\u001b[0;31m---------------------------------------------------------------------------\u001b[0m",
            "\u001b[0;31mTypeError\u001b[0m                                 Traceback (most recent call last)",
            "\u001b[0;32m<ipython-input-17-063f03a6d716>\u001b[0m in \u001b[0;36m<cell line: 3>\u001b[0;34m()\u001b[0m\n\u001b[1;32m      1\u001b[0m \u001b[0ma\u001b[0m \u001b[0;34m=\u001b[0m \u001b[0mtuple\u001b[0m\u001b[0;34m(\u001b[0m\u001b[0mrange\u001b[0m\u001b[0;34m(\u001b[0m\u001b[0;36m0\u001b[0m\u001b[0;34m,\u001b[0m\u001b[0;36m10\u001b[0m\u001b[0;34m,\u001b[0m\u001b[0;36m2\u001b[0m\u001b[0;34m)\u001b[0m\u001b[0;34m)\u001b[0m\u001b[0;34m\u001b[0m\u001b[0;34m\u001b[0m\u001b[0m\n\u001b[1;32m      2\u001b[0m \u001b[0;34m\u001b[0m\u001b[0m\n\u001b[0;32m----> 3\u001b[0;31m \u001b[0ma\u001b[0m\u001b[0;34m[\u001b[0m\u001b[0;36m4\u001b[0m\u001b[0;34m]\u001b[0m \u001b[0;34m=\u001b[0m \u001b[0;36m6\u001b[0m\u001b[0;34m\u001b[0m\u001b[0;34m\u001b[0m\u001b[0m\n\u001b[0m\u001b[1;32m      4\u001b[0m \u001b[0;34m\u001b[0m\u001b[0m\n\u001b[1;32m      5\u001b[0m \u001b[0mprint\u001b[0m\u001b[0;34m(\u001b[0m\u001b[0ma\u001b[0m\u001b[0;34m[\u001b[0m\u001b[0;36m4\u001b[0m\u001b[0;34m]\u001b[0m\u001b[0;34m)\u001b[0m\u001b[0;34m\u001b[0m\u001b[0;34m\u001b[0m\u001b[0m\n",
            "\u001b[0;31mTypeError\u001b[0m: 'tuple' object does not support item assignment"
          ]
        }
      ]
    },
    {
      "cell_type": "code",
      "source": [
        "a = {1,1,2,2,3,3,4,4,5,5}\n",
        "\n",
        "print(a)"
      ],
      "metadata": {
        "colab": {
          "base_uri": "https://localhost:8080/"
        },
        "id": "u6y14VIuBZG2",
        "outputId": "1ca27c14-193d-4293-b847-ef9728690664"
      },
      "execution_count": 18,
      "outputs": [
        {
          "output_type": "stream",
          "name": "stdout",
          "text": [
            "{1, 2, 3, 4, 5}\n"
          ]
        }
      ]
    },
    {
      "cell_type": "code",
      "source": [
        "a = {1,2,3,4,5}\n",
        "\n",
        "a.add(6)\n",
        "\n",
        "print(a)"
      ],
      "metadata": {
        "colab": {
          "base_uri": "https://localhost:8080/"
        },
        "id": "61BRbj5BBe33",
        "outputId": "aedcdba0-9550-41d3-ba0f-e4b4399f6584"
      },
      "execution_count": 19,
      "outputs": [
        {
          "output_type": "stream",
          "name": "stdout",
          "text": [
            "{1, 2, 3, 4, 5, 6}\n"
          ]
        }
      ]
    },
    {
      "cell_type": "code",
      "source": [
        "A = 10\n",
        "\n",
        "B = 20\n",
        "\n",
        "if A > 5 & B > 15:\n",
        "\n",
        "  print(\"One\")\n",
        "\n",
        "elif A < 5 & B < 15:\n",
        "\n",
        "  print(\"Two\")\n",
        "\n",
        "else:\n",
        "\n",
        "  print(\"None\")"
      ],
      "metadata": {
        "colab": {
          "base_uri": "https://localhost:8080/"
        },
        "id": "MkBq1e8pBsWW",
        "outputId": "8641b057-343d-453b-89c8-8ad6d9b05821"
      },
      "execution_count": 21,
      "outputs": [
        {
          "output_type": "stream",
          "name": "stdout",
          "text": [
            "None\n"
          ]
        }
      ]
    },
    {
      "cell_type": "code",
      "source": [
        "A = 2\n",
        "\n",
        "B = 10\n",
        "\n",
        "if A > 0 and B%A==0:\n",
        "\n",
        "  print(\"One\", end=\",\")\n",
        "\n",
        "elif B > 5 and B%2 == 1:\n",
        "\n",
        "  print(\"Two\", end=\" \")\n",
        "\n",
        "else:\n",
        "\n",
        "  pass"
      ],
      "metadata": {
        "colab": {
          "base_uri": "https://localhost:8080/"
        },
        "id": "40cMJovtB_Ip",
        "outputId": "89a7110c-eafe-4cdc-9880-1dca09492486"
      },
      "execution_count": 23,
      "outputs": [
        {
          "output_type": "stream",
          "name": "stdout",
          "text": [
            "One,"
          ]
        }
      ]
    },
    {
      "cell_type": "code",
      "source": [
        "A = 2\n",
        "\n",
        "B = 3\n",
        "\n",
        "print('Greater') if A//B==0 else print(\"Equal\") if A//B==1 else print(\"Smaller\")"
      ],
      "metadata": {
        "colab": {
          "base_uri": "https://localhost:8080/"
        },
        "id": "1NzYy803CN04",
        "outputId": "1ff4aa5c-0a19-4f42-8cb3-696dae3551c9"
      },
      "execution_count": 24,
      "outputs": [
        {
          "output_type": "stream",
          "name": "stdout",
          "text": [
            "Greater\n"
          ]
        }
      ]
    },
    {
      "cell_type": "code",
      "source": [
        "X = 10\n",
        "\n",
        "if X >= 0:\n",
        "\n",
        "  if X == 0:\n",
        "\n",
        "    print('None')\n",
        "\n",
        "elif X //2 == 1:\n",
        "\n",
        "  print('Two')\n",
        "\n",
        "elif X**2 ==100:\n",
        "\n",
        "  if X%2 == 0:\n",
        "\n",
        "    print(\"Three\")\n",
        "\n",
        "else:\n",
        "\n",
        "  print(\"Four\")\n",
        "\n",
        "else:\n",
        "\n",
        "print(\"Five\")\n",
        "\n",
        "else:\n",
        "\n",
        "print(\"Six\")"
      ],
      "metadata": {
        "colab": {
          "base_uri": "https://localhost:8080/",
          "height": 140
        },
        "id": "3NO82ZfzCWa7",
        "outputId": "31c20d0d-22aa-4d84-e7fd-3f1ac8b6da81"
      },
      "execution_count": 26,
      "outputs": [
        {
          "output_type": "error",
          "ename": "SyntaxError",
          "evalue": "ignored",
          "traceback": [
            "\u001b[0;36m  File \u001b[0;32m\"<ipython-input-26-cabe46434e2d>\"\u001b[0;36m, line \u001b[0;32m23\u001b[0m\n\u001b[0;31m    else:\u001b[0m\n\u001b[0m    ^\u001b[0m\n\u001b[0;31mSyntaxError\u001b[0m\u001b[0;31m:\u001b[0m invalid syntax\n"
          ]
        }
      ]
    },
    {
      "cell_type": "code",
      "source": [
        "i=5\n",
        "\n",
        "while i>0:\n",
        "\n",
        "  for i in range(0,3):\n",
        "\n",
        "    if i > 1:\n",
        "      i = i - 2\n",
        "  print(i)\n",
        "\n",
        "else:\n",
        "    i = i - 1"
      ],
      "metadata": {
        "colab": {
          "base_uri": "https://localhost:8080/"
        },
        "id": "zugMrlWmDZpb",
        "outputId": "d001124e-b615-495e-c39f-175d60aa2e3e"
      },
      "execution_count": 36,
      "outputs": [
        {
          "output_type": "stream",
          "name": "stdout",
          "text": [
            "0\n"
          ]
        }
      ]
    },
    {
      "cell_type": "code",
      "source": [
        "a = 0\n",
        "\n",
        "b = 1\n",
        "\n",
        "i = 1\n",
        "\n",
        "while i < 5:\n",
        "\n",
        "  temp = a + b\n",
        "\n",
        "a = b\n",
        "\n",
        "b = temp\n",
        "\n",
        "print(temp, end=\" \")\n",
        "\n",
        "i = i + 1"
      ],
      "metadata": {
        "colab": {
          "base_uri": "https://localhost:8080/",
          "height": 245
        },
        "id": "VIzESuKfGG1N",
        "outputId": "0c50c806-b261-4180-8800-f7908f9d1b9b"
      },
      "execution_count": 38,
      "outputs": [
        {
          "output_type": "error",
          "ename": "KeyboardInterrupt",
          "evalue": "ignored",
          "traceback": [
            "\u001b[0;31m---------------------------------------------------------------------------\u001b[0m",
            "\u001b[0;31mKeyboardInterrupt\u001b[0m                         Traceback (most recent call last)",
            "\u001b[0;32m<ipython-input-38-624fc80e1060>\u001b[0m in \u001b[0;36m<cell line: 7>\u001b[0;34m()\u001b[0m\n\u001b[1;32m      5\u001b[0m \u001b[0mi\u001b[0m \u001b[0;34m=\u001b[0m \u001b[0;36m1\u001b[0m\u001b[0;34m\u001b[0m\u001b[0;34m\u001b[0m\u001b[0m\n\u001b[1;32m      6\u001b[0m \u001b[0;34m\u001b[0m\u001b[0m\n\u001b[0;32m----> 7\u001b[0;31m \u001b[0;32mwhile\u001b[0m \u001b[0mi\u001b[0m \u001b[0;34m<\u001b[0m \u001b[0;36m5\u001b[0m\u001b[0;34m:\u001b[0m\u001b[0;34m\u001b[0m\u001b[0;34m\u001b[0m\u001b[0m\n\u001b[0m\u001b[1;32m      8\u001b[0m \u001b[0;34m\u001b[0m\u001b[0m\n\u001b[1;32m      9\u001b[0m   \u001b[0mtemp\u001b[0m \u001b[0;34m=\u001b[0m \u001b[0ma\u001b[0m \u001b[0;34m+\u001b[0m \u001b[0mb\u001b[0m\u001b[0;34m\u001b[0m\u001b[0;34m\u001b[0m\u001b[0m\n",
            "\u001b[0;31mKeyboardInterrupt\u001b[0m: "
          ]
        }
      ]
    },
    {
      "cell_type": "code",
      "source": [
        "a = list(range(0,3))\n",
        "\n",
        "b = []\n",
        "\n",
        "for x in a:\n",
        "\n",
        "  for j in range(len(a)-1, 0, -1):\n",
        "\n",
        "    b.append(a[j])\n",
        "\n",
        "print(b)"
      ],
      "metadata": {
        "colab": {
          "base_uri": "https://localhost:8080/"
        },
        "id": "sQnK5B7UD9Q0",
        "outputId": "8d10d746-41ec-4330-b22c-eab6cb135b63"
      },
      "execution_count": 31,
      "outputs": [
        {
          "output_type": "stream",
          "name": "stdout",
          "text": [
            "[2, 1, 2, 1, 2, 1]\n"
          ]
        }
      ]
    },
    {
      "cell_type": "code",
      "source": [
        "i = 9\n",
        "\n",
        "while i > 5:\n",
        "  if i%2 == 0:\n",
        "\n",
        "    i = i**2\n",
        "\n",
        "    print(i)\n",
        "\n",
        "else:\n",
        "\n",
        "  i = i**0.5\n",
        "\n",
        "  print(i)"
      ],
      "metadata": {
        "colab": {
          "base_uri": "https://localhost:8080/",
          "height": 245
        },
        "id": "PttspwopEAg7",
        "outputId": "1f5c20c6-8b1e-4531-de6b-8b31c80fcbb9"
      },
      "execution_count": 39,
      "outputs": [
        {
          "output_type": "error",
          "ename": "KeyboardInterrupt",
          "evalue": "ignored",
          "traceback": [
            "\u001b[0;31m---------------------------------------------------------------------------\u001b[0m",
            "\u001b[0;31mKeyboardInterrupt\u001b[0m                         Traceback (most recent call last)",
            "\u001b[0;32m<ipython-input-39-69f589fb6cb2>\u001b[0m in \u001b[0;36m<cell line: 3>\u001b[0;34m()\u001b[0m\n\u001b[1;32m      1\u001b[0m \u001b[0mi\u001b[0m \u001b[0;34m=\u001b[0m \u001b[0;36m9\u001b[0m\u001b[0;34m\u001b[0m\u001b[0;34m\u001b[0m\u001b[0m\n\u001b[1;32m      2\u001b[0m \u001b[0;34m\u001b[0m\u001b[0m\n\u001b[0;32m----> 3\u001b[0;31m \u001b[0;32mwhile\u001b[0m \u001b[0mi\u001b[0m \u001b[0;34m>\u001b[0m \u001b[0;36m5\u001b[0m\u001b[0;34m:\u001b[0m\u001b[0;34m\u001b[0m\u001b[0;34m\u001b[0m\u001b[0m\n\u001b[0m\u001b[1;32m      4\u001b[0m   \u001b[0;32mif\u001b[0m \u001b[0mi\u001b[0m\u001b[0;34m%\u001b[0m\u001b[0;36m2\u001b[0m \u001b[0;34m==\u001b[0m \u001b[0;36m0\u001b[0m\u001b[0;34m:\u001b[0m\u001b[0;34m\u001b[0m\u001b[0;34m\u001b[0m\u001b[0m\n\u001b[1;32m      5\u001b[0m \u001b[0;34m\u001b[0m\u001b[0m\n",
            "\u001b[0;31mKeyboardInterrupt\u001b[0m: "
          ]
        }
      ]
    },
    {
      "cell_type": "code",
      "source": [
        "def func(self):\n",
        "\n",
        "  if self%2==0:\n",
        "\n",
        "    return None\n",
        "\n",
        "func(10)"
      ],
      "metadata": {
        "id": "YTMMyklaGg7m"
      },
      "execution_count": 42,
      "outputs": []
    },
    {
      "cell_type": "code",
      "source": [
        "def func(*self):\n",
        "\n",
        "  for i in self:\n",
        "\n",
        "    if i in list(range(0,100,10)):\n",
        "\n",
        "      print(\"True\", end=\",\")\n",
        "\n",
        "  else:\n",
        "\n",
        "    print(\"False\")\n",
        "\n",
        "func(10,15)"
      ],
      "metadata": {
        "colab": {
          "base_uri": "https://localhost:8080/"
        },
        "id": "hhQ_rT2aGuA-",
        "outputId": "c503671c-f06e-473f-ff44-63c34c4496a2"
      },
      "execution_count": 43,
      "outputs": [
        {
          "output_type": "stream",
          "name": "stdout",
          "text": [
            "True,False\n"
          ]
        }
      ]
    },
    {
      "cell_type": "code",
      "source": [
        "def func(**self):\n",
        "\n",
        "  for i in self.values():\n",
        "\n",
        "    if i%2 == 0 and i%3 == 0 in list(range(0,10)):\n",
        "\n",
        "      print(\"True\", end=\" \")\n",
        "\n",
        "    else:\n",
        "\n",
        "      print(\"False\", end=\" \")\n",
        "\n",
        "func(first= 10, second= 20)"
      ],
      "metadata": {
        "colab": {
          "base_uri": "https://localhost:8080/"
        },
        "id": "64YQR04_HMIV",
        "outputId": "3dce2159-e7e3-4e7e-e8c8-9ded68087149"
      },
      "execution_count": 44,
      "outputs": [
        {
          "output_type": "stream",
          "name": "stdout",
          "text": [
            "False False "
          ]
        }
      ]
    },
    {
      "cell_type": "code",
      "source": [
        "y = lambda a,b: a//2 + b//2 - 2//a//b\n",
        "\n",
        "y(12,4)"
      ],
      "metadata": {
        "colab": {
          "base_uri": "https://localhost:8080/"
        },
        "id": "nUik6iU_HWf5",
        "outputId": "8524fca0-3330-4b1b-9fee-dd5833339b56"
      },
      "execution_count": 45,
      "outputs": [
        {
          "output_type": "execute_result",
          "data": {
            "text/plain": [
              "8"
            ]
          },
          "metadata": {},
          "execution_count": 45
        }
      ]
    },
    {
      "cell_type": "code",
      "source": [
        "sample = [12,22,32,42,52]\n",
        "\n",
        "x = map(lambda a: a//10, sample)\n",
        "\n",
        "print(list(x))"
      ],
      "metadata": {
        "colab": {
          "base_uri": "https://localhost:8080/"
        },
        "id": "DlVf3QSoHpYN",
        "outputId": "45aac0bd-fb97-4891-afe9-ea5ffd862795"
      },
      "execution_count": 46,
      "outputs": [
        {
          "output_type": "stream",
          "name": "stdout",
          "text": [
            "[1, 2, 3, 4, 5]\n"
          ]
        }
      ]
    },
    {
      "cell_type": "code",
      "source": [
        "def func(self):\n",
        "\n",
        "  if self % 2 == 1:\n",
        "\n",
        "    return False\n",
        "\n",
        "  else:\n",
        "\n",
        "    return True\n",
        "\n",
        "sample= [12,24,23,3,5,2]\n",
        "\n",
        "z = filter(func, sample)\n",
        "\n",
        "print(list(z))"
      ],
      "metadata": {
        "colab": {
          "base_uri": "https://localhost:8080/"
        },
        "id": "EmWcIoHMHtwQ",
        "outputId": "2e6adcc0-3312-46f8-c789-ec2e772083b6"
      },
      "execution_count": 48,
      "outputs": [
        {
          "output_type": "stream",
          "name": "stdout",
          "text": [
            "[12, 24, 2]\n"
          ]
        }
      ]
    },
    {
      "cell_type": "code",
      "source": [
        "def func(x, y, z):\n",
        "\n",
        "  for i in x:\n",
        "\n",
        "    for j in y:\n",
        "\n",
        "      print(i, end=\"\")\n",
        "\n",
        "      print(j, end=\"\")\n",
        "\n",
        "  return None\n",
        "\n",
        "a = [1,2,3]\n",
        "\n",
        "b = [3]\n",
        "\n",
        "c = [5,6,7]\n",
        "\n",
        "func(a,b,c)"
      ],
      "metadata": {
        "colab": {
          "base_uri": "https://localhost:8080/"
        },
        "id": "cD9pmjXFH39_",
        "outputId": "e8bc95d9-e091-4c98-8ce0-046da5489591"
      },
      "execution_count": 49,
      "outputs": [
        {
          "output_type": "stream",
          "name": "stdout",
          "text": [
            "132333"
          ]
        }
      ]
    },
    {
      "cell_type": "code",
      "source": [
        "x = lambda x,y,z: x**y + z**x + y**x//z\n",
        "\n",
        "x(1,1,3)"
      ],
      "metadata": {
        "colab": {
          "base_uri": "https://localhost:8080/"
        },
        "id": "rXPdEwyzIGt4",
        "outputId": "fedf6508-6086-4edb-efb2-71d610d4a14d"
      },
      "execution_count": 50,
      "outputs": [
        {
          "output_type": "execute_result",
          "data": {
            "text/plain": [
              "4"
            ]
          },
          "metadata": {},
          "execution_count": 50
        }
      ]
    },
    {
      "cell_type": "code",
      "source": [
        "class Myclass:\n",
        "\n",
        "  def __init__(self):\n",
        "\n",
        "    self.string = \"Intellipaat\"\n",
        "\n",
        "    self.number = 2022\n",
        "\n",
        "obj = Myclass()\n",
        "\n",
        "print(obj.number, obj.string)"
      ],
      "metadata": {
        "colab": {
          "base_uri": "https://localhost:8080/"
        },
        "id": "L0tSZKCwIOD8",
        "outputId": "62b84675-aa0e-4a46-a433-e2b7c54ba455"
      },
      "execution_count": 51,
      "outputs": [
        {
          "output_type": "stream",
          "name": "stdout",
          "text": [
            "2022 Intellipaat\n"
          ]
        }
      ]
    },
    {
      "cell_type": "code",
      "source": [
        "class Myclass:\n",
        "\n",
        "  def __init__(self):\n",
        "\n",
        "    self.string = \"Conor\"\n",
        "\n",
        "    self.number = 20\n",
        "\n",
        "  def view(self):\n",
        "\n",
        "    print(self.string[::-1], self.number//6)\n",
        "\n",
        "    obj = Myclass()\n",
        "\n",
        "    obj.view()"
      ],
      "metadata": {
        "id": "9D6qrzpwIW4J"
      },
      "execution_count": 55,
      "outputs": []
    },
    {
      "cell_type": "code",
      "source": [
        "class myClass:\n",
        "\n",
        "  def __init__(self, name, age):\n",
        "\n",
        "    self.name = name\n",
        "\n",
        "    self.age = age\n",
        "\n",
        "  def view(self):\n",
        "\n",
        "    print([self.name, self.age])\n",
        "\n",
        "class myclass:\n",
        "\n",
        "  def __init__(self, name, age):\n",
        "\n",
        "    self.name = name\n",
        "\n",
        "    self.age = age\n",
        "\n",
        "  def view(self):\n",
        "\n",
        "    print([self.name, self.age])\n",
        "\n",
        "obj1 = myClass(\"Devon\", 29)\n",
        "\n",
        "obj2 = myclass(\"Levi\", 28)\n",
        "\n",
        "print([obj1.name, obj2.age])"
      ],
      "metadata": {
        "colab": {
          "base_uri": "https://localhost:8080/"
        },
        "id": "DM1LST3RIvPU",
        "outputId": "18d6d822-76f4-4a35-8666-963269100c25"
      },
      "execution_count": 56,
      "outputs": [
        {
          "output_type": "stream",
          "name": "stdout",
          "text": [
            "['Devon', 28]\n"
          ]
        }
      ]
    },
    {
      "cell_type": "code",
      "source": [
        "class Name:\n",
        "\n",
        "  def view(self):\n",
        "\n",
        "    self.name = \"Rajesh\"\n",
        "\n",
        "class Age:\n",
        "\n",
        "  def view(self):\n",
        "\n",
        "    self.age = 29\n",
        "\n",
        "class Profession:\n",
        "\n",
        "  def view(self):\n",
        "\n",
        "    self.profession = \"Teacher\"\n",
        "\n",
        "obj1 = Name()\n",
        "\n",
        "obj2 = Age()\n",
        "\n",
        "obj3 = Profession()\n",
        "\n",
        "print(obj1.view(), obj2.view(), obj1.view())"
      ],
      "metadata": {
        "colab": {
          "base_uri": "https://localhost:8080/"
        },
        "id": "Tc9GGjBhI7TM",
        "outputId": "42d980ad-d78e-4c58-ab50-dfe1d9aec4a8"
      },
      "execution_count": 57,
      "outputs": [
        {
          "output_type": "stream",
          "name": "stdout",
          "text": [
            "None None None\n"
          ]
        }
      ]
    },
    {
      "cell_type": "code",
      "source": [
        "class Base:\n",
        "\n",
        "  def __init__(self):\n",
        "\n",
        "    self.name = \"Ricky\"\n",
        "\n",
        "    self.age = 23\n",
        "\n",
        "class Derived(Base):\n",
        "\n",
        "  def __init__(self):\n",
        "\n",
        "    super().__init__()\n",
        "\n",
        "    self.profession = \"Cricketer\"\n",
        "\n",
        "  def view(self):\n",
        "\n",
        "    print(self.name, self.age, self.profession)\n",
        "\n",
        "obj = Derived()\n",
        "\n",
        "obj.view()"
      ],
      "metadata": {
        "colab": {
          "base_uri": "https://localhost:8080/"
        },
        "id": "tTOl3zhoJEyn",
        "outputId": "ed28d1e4-fa80-4964-a3bf-bca6a8e7b308"
      },
      "execution_count": 58,
      "outputs": [
        {
          "output_type": "stream",
          "name": "stdout",
          "text": [
            "Ricky 23 Cricketer\n"
          ]
        }
      ]
    },
    {
      "cell_type": "code",
      "source": [
        "from abc import ABC, abstractmethod\n",
        "\n",
        "class School(ABC):\n",
        "\n",
        "  def __init__(self):\n",
        "\n",
        "    self.name = \"Levi\"\n",
        "\n",
        "    self.age = 29\n",
        "\n",
        "obj = School()\n",
        "\n",
        "obj.name"
      ],
      "metadata": {
        "colab": {
          "base_uri": "https://localhost:8080/",
          "height": 36
        },
        "id": "-CbWakaHJP1a",
        "outputId": "5c7ce698-6d8f-4ac7-f693-31712ad5f362"
      },
      "execution_count": 59,
      "outputs": [
        {
          "output_type": "execute_result",
          "data": {
            "text/plain": [
              "'Levi'"
            ],
            "application/vnd.google.colaboratory.intrinsic+json": {
              "type": "string"
            }
          },
          "metadata": {},
          "execution_count": 59
        }
      ]
    },
    {
      "cell_type": "code",
      "source": [
        "class Poly:\n",
        "\n",
        "  def method(self, a, b):\n",
        "\n",
        "    return (a**b)\n",
        "\n",
        "  def method(self, a, b,c):\n",
        "\n",
        "    return (a*b*c)\n",
        "\n",
        "    obj = Poly()\n",
        "\n",
        "    obj.method(3,2)"
      ],
      "metadata": {
        "colab": {
          "base_uri": "https://localhost:8080/",
          "height": 210
        },
        "id": "UGaciJZTJWKV",
        "outputId": "5d3836d7-7dad-43ac-e11f-a0f3871acf44"
      },
      "execution_count": 60,
      "outputs": [
        {
          "output_type": "error",
          "ename": "TypeError",
          "evalue": "ignored",
          "traceback": [
            "\u001b[0;31m---------------------------------------------------------------------------\u001b[0m",
            "\u001b[0;31mTypeError\u001b[0m                                 Traceback (most recent call last)",
            "\u001b[0;32m<ipython-input-60-10627bd8387f>\u001b[0m in \u001b[0;36m<cell line: 13>\u001b[0;34m()\u001b[0m\n\u001b[1;32m     11\u001b[0m \u001b[0mobj\u001b[0m \u001b[0;34m=\u001b[0m \u001b[0mPoly\u001b[0m\u001b[0;34m(\u001b[0m\u001b[0;34m)\u001b[0m\u001b[0;34m\u001b[0m\u001b[0;34m\u001b[0m\u001b[0m\n\u001b[1;32m     12\u001b[0m \u001b[0;34m\u001b[0m\u001b[0m\n\u001b[0;32m---> 13\u001b[0;31m \u001b[0mobj\u001b[0m\u001b[0;34m.\u001b[0m\u001b[0mmethod\u001b[0m\u001b[0;34m(\u001b[0m\u001b[0;36m3\u001b[0m\u001b[0;34m,\u001b[0m\u001b[0;36m2\u001b[0m\u001b[0;34m)\u001b[0m\u001b[0;34m\u001b[0m\u001b[0;34m\u001b[0m\u001b[0m\n\u001b[0m",
            "\u001b[0;31mTypeError\u001b[0m: Poly.method() missing 1 required positional argument: 'c'"
          ]
        }
      ]
    },
    {
      "cell_type": "code",
      "source": [
        "class Parent:\n",
        "\n",
        "  def __init__(self):\n",
        "\n",
        "    self._name = \"Levi\"\n",
        "\n",
        "    self.__age = 29\n",
        "\n",
        "class Child(Parent):\n",
        "\n",
        "  def __init__(self):\n",
        "\n",
        "    Parent.__init__(self)\n",
        "\n",
        "    self._name = \"Devon\"\n",
        "\n",
        "  def view(self):\n",
        "\n",
        "    return self._name\n",
        "\n",
        "obj = Child()\n",
        "\n",
        "obj.view()"
      ],
      "metadata": {
        "colab": {
          "base_uri": "https://localhost:8080/",
          "height": 36
        },
        "id": "L7TBIAmEJhYp",
        "outputId": "ba361b7b-09fa-4c91-b919-798a470693b9"
      },
      "execution_count": 61,
      "outputs": [
        {
          "output_type": "execute_result",
          "data": {
            "text/plain": [
              "'Devon'"
            ],
            "application/vnd.google.colaboratory.intrinsic+json": {
              "type": "string"
            }
          },
          "metadata": {},
          "execution_count": 61
        }
      ]
    },
    {
      "cell_type": "code",
      "source": [
        "class Parent:\n",
        "\n",
        "  def __init__(self):\n",
        "\n",
        "    self._name = \"Levi\"\n",
        "\n",
        "    self.__age = 29\n",
        "\n",
        "class Child(Parent):\n",
        "\n",
        "  def __init__(self):\n",
        "\n",
        "    Parent.__init__(self)\n",
        "\n",
        "    self._name = \"Devon\"\n",
        "\n",
        "    self.__age = 28\n",
        "\n",
        "  def view(self):\n",
        "\n",
        "    return self.__age\n",
        "\n",
        "obj = Child()\n",
        "\n",
        "obj.view()"
      ],
      "metadata": {
        "colab": {
          "base_uri": "https://localhost:8080/"
        },
        "id": "cJt_NEHnJ2lw",
        "outputId": "013f9fd2-0263-46d7-d7e6-2fbf0ef2127a"
      },
      "execution_count": 62,
      "outputs": [
        {
          "output_type": "execute_result",
          "data": {
            "text/plain": [
              "28"
            ]
          },
          "metadata": {},
          "execution_count": 62
        }
      ]
    },
    {
      "cell_type": "code",
      "source": [
        "class Parent:\n",
        "\n",
        "  def __init__(self):\n",
        "\n",
        "    self._name = \"Rajesh\"\n",
        "\n",
        "    self.__age = 29\n",
        "\n",
        "class Child(Parent):\n",
        "\n",
        "  def __init__(self):\n",
        "\n",
        "    Parent.__init__(self)\n",
        "\n",
        "    self._name = \"Ramesh\"\n",
        "\n",
        "  def view(self):\n",
        "\n",
        "    return self.__age\n",
        "\n",
        "obj = Child()\n",
        "\n",
        "obj.view()"
      ],
      "metadata": {
        "colab": {
          "base_uri": "https://localhost:8080/",
          "height": 331
        },
        "id": "0WKMq3uRKB4_",
        "outputId": "b5b380a9-f535-44e6-aaaf-dcaa1250c416"
      },
      "execution_count": 63,
      "outputs": [
        {
          "output_type": "error",
          "ename": "AttributeError",
          "evalue": "ignored",
          "traceback": [
            "\u001b[0;31m---------------------------------------------------------------------------\u001b[0m",
            "\u001b[0;31mAttributeError\u001b[0m                            Traceback (most recent call last)",
            "\u001b[0;32m<ipython-input-63-ceb08ea62e0e>\u001b[0m in \u001b[0;36m<cell line: 23>\u001b[0;34m()\u001b[0m\n\u001b[1;32m     21\u001b[0m \u001b[0mobj\u001b[0m \u001b[0;34m=\u001b[0m \u001b[0mChild\u001b[0m\u001b[0;34m(\u001b[0m\u001b[0;34m)\u001b[0m\u001b[0;34m\u001b[0m\u001b[0;34m\u001b[0m\u001b[0m\n\u001b[1;32m     22\u001b[0m \u001b[0;34m\u001b[0m\u001b[0m\n\u001b[0;32m---> 23\u001b[0;31m \u001b[0mobj\u001b[0m\u001b[0;34m.\u001b[0m\u001b[0mview\u001b[0m\u001b[0;34m(\u001b[0m\u001b[0;34m)\u001b[0m\u001b[0;34m\u001b[0m\u001b[0;34m\u001b[0m\u001b[0m\n\u001b[0m",
            "\u001b[0;32m<ipython-input-63-ceb08ea62e0e>\u001b[0m in \u001b[0;36mview\u001b[0;34m(self)\u001b[0m\n\u001b[1;32m     17\u001b[0m   \u001b[0;32mdef\u001b[0m \u001b[0mview\u001b[0m\u001b[0;34m(\u001b[0m\u001b[0mself\u001b[0m\u001b[0;34m)\u001b[0m\u001b[0;34m:\u001b[0m\u001b[0;34m\u001b[0m\u001b[0;34m\u001b[0m\u001b[0m\n\u001b[1;32m     18\u001b[0m \u001b[0;34m\u001b[0m\u001b[0m\n\u001b[0;32m---> 19\u001b[0;31m     \u001b[0;32mreturn\u001b[0m \u001b[0mself\u001b[0m\u001b[0;34m.\u001b[0m\u001b[0m__age\u001b[0m\u001b[0;34m\u001b[0m\u001b[0;34m\u001b[0m\u001b[0m\n\u001b[0m\u001b[1;32m     20\u001b[0m \u001b[0;34m\u001b[0m\u001b[0m\n\u001b[1;32m     21\u001b[0m \u001b[0mobj\u001b[0m \u001b[0;34m=\u001b[0m \u001b[0mChild\u001b[0m\u001b[0;34m(\u001b[0m\u001b[0;34m)\u001b[0m\u001b[0;34m\u001b[0m\u001b[0;34m\u001b[0m\u001b[0m\n",
            "\u001b[0;31mAttributeError\u001b[0m: 'Child' object has no attribute '_Child__age'"
          ]
        }
      ]
    },
    {
      "cell_type": "code",
      "source": [
        "class Poly:\n",
        "\n",
        "  def __init__(self):\n",
        "\n",
        "    self.name = 'Rajesh'\n",
        "\n",
        "    self.age = 29\n",
        "\n",
        "  def view(self):\n",
        "\n",
        "    return None\n",
        "\n",
        "class Child(Poly):\n",
        "\n",
        "  def __init__(self):\n",
        "\n",
        "    Poly.__init__(self)\n",
        "\n",
        "  def view(self):\n",
        "\n",
        "    self.prof = \"Student\"\n",
        "\n",
        "    super().view()\n",
        "\n",
        "    return None\n",
        "\n",
        "obj = Poly()\n",
        "\n",
        "obj.view()"
      ],
      "metadata": {
        "id": "zexi6YyzKZu4"
      },
      "execution_count": 65,
      "outputs": []
    },
    {
      "cell_type": "code",
      "source": [
        "class Poly:\n",
        "\n",
        "  def __init__(self):\n",
        "\n",
        "    self.name = 'Devon'\n",
        "\n",
        "    self.age = 29\n",
        "\n",
        "  def view(self):\n",
        "\n",
        "    print(self.name)\n",
        "\n",
        "class Child(Poly):\n",
        "\n",
        "  def __init__(self):\n",
        "\n",
        "    Poly.__init__(self)\n",
        "\n",
        "  def view(self):\n",
        "\n",
        "    self.prof = \"Levi\"\n",
        "\n",
        "    super().view()\n",
        "\n",
        "    return None\n",
        "\n",
        "obj = Child()\n",
        "\n",
        "obj.view()"
      ],
      "metadata": {
        "colab": {
          "base_uri": "https://localhost:8080/"
        },
        "id": "eS3_CERjK3ch",
        "outputId": "2bda591f-d171-4499-e3f2-ab2ed0356919"
      },
      "execution_count": 66,
      "outputs": [
        {
          "output_type": "stream",
          "name": "stdout",
          "text": [
            "Devon\n"
          ]
        }
      ]
    },
    {
      "cell_type": "code",
      "source": [
        "from multipledispatch import dispatch\n",
        "\n",
        "class Poly:\n",
        "\n",
        "  @dispatch(int, int)\n",
        "\n",
        "  def method(self, a, b):\n",
        "\n",
        "    return (a**b)\n",
        "\n",
        "  @dispatch(int, int, int)\n",
        "\n",
        "  def method(self, a, b,c):\n",
        "\n",
        "    return (a*b*c)\n",
        "\n",
        "obj = Poly()\n",
        "\n",
        "obj.method(4,2)"
      ],
      "metadata": {
        "colab": {
          "base_uri": "https://localhost:8080/"
        },
        "id": "vYapfKikLDoS",
        "outputId": "a744dbc1-1467-48ae-c8ef-df3d53d53c73"
      },
      "execution_count": 67,
      "outputs": [
        {
          "output_type": "execute_result",
          "data": {
            "text/plain": [
              "16"
            ]
          },
          "metadata": {},
          "execution_count": 67
        }
      ]
    }
  ]
}