{
 "cells": [
  {
   "cell_type": "markdown",
   "id": "dceb4340-386c-4b73-9642-7845c71e0718",
   "metadata": {},
   "source": [
    "## Python DataStructures"
   ]
  },
  {
   "cell_type": "markdown",
   "id": "8a0d5fa9-6948-4379-a1fe-85d6e32382b8",
   "metadata": {},
   "source": [
    "1. Logical operators\n",
    "2. Comparison Operators\n",
    "3. Strings\n",
    "4. Lists\n",
    "5. Tuples\n",
    "6. Sets\n",
    "7. Dictionaries "
   ]
  },
  {
   "cell_type": "markdown",
   "id": "57a9c28c-8cb9-4256-a331-b75940cc1ee5",
   "metadata": {},
   "source": [
    "## Logical operators"
   ]
  },
  {
   "cell_type": "code",
   "execution_count": 1,
   "id": "ae9b9b60-9a2d-4dce-af2f-63979eea8361",
   "metadata": {},
   "outputs": [
    {
     "data": {
      "text/plain": [
       "True"
      ]
     },
     "execution_count": 1,
     "metadata": {},
     "output_type": "execute_result"
    }
   ],
   "source": [
    "# If both the operands are true then the condition becomes true.\n",
    "True and True"
   ]
  },
  {
   "cell_type": "code",
   "execution_count": 2,
   "id": "ec52f81a-3360-44f3-811e-a1b4c7c1ab29",
   "metadata": {},
   "outputs": [
    {
     "data": {
      "text/plain": [
       "False"
      ]
     },
     "execution_count": 2,
     "metadata": {},
     "output_type": "execute_result"
    }
   ],
   "source": [
    "# If both the operands are not true then the condition becomes false.\n",
    "True and False"
   ]
  },
  {
   "cell_type": "code",
   "execution_count": 3,
   "id": "e7dd3e07-532f-49f2-9e3e-bff125747ac3",
   "metadata": {},
   "outputs": [
    {
     "data": {
      "text/plain": [
       "True"
      ]
     },
     "execution_count": 3,
     "metadata": {},
     "output_type": "execute_result"
    }
   ],
   "source": [
    "# If one of the operand is true then the condition becomes true.\n",
    "True or True"
   ]
  },
  {
   "cell_type": "code",
   "execution_count": 4,
   "id": "e3975069-8198-4b39-9f35-05f8c0c787ca",
   "metadata": {},
   "outputs": [
    {
     "data": {
      "text/plain": [
       "True"
      ]
     },
     "execution_count": 4,
     "metadata": {},
     "output_type": "execute_result"
    }
   ],
   "source": [
    "# If one of the operand is true then the condition becomes true.\n",
    "True or False"
   ]
  },
  {
   "cell_type": "code",
   "execution_count": 5,
   "id": "a75ad4b1-ee2f-4202-a4c9-b55aee268dc4",
   "metadata": {},
   "outputs": [
    {
     "data": {
      "text/plain": [
       "str"
      ]
     },
     "execution_count": 5,
     "metadata": {},
     "output_type": "execute_result"
    }
   ],
   "source": [
    "# String is always provided within quotes('')\n",
    "var1 = 'Hello World!'\n",
    "type(var1)"
   ]
  },
  {
   "cell_type": "code",
   "execution_count": 12,
   "id": "92b23d06",
   "metadata": {},
   "outputs": [
    {
     "data": {
      "text/plain": [
       "False"
      ]
     },
     "execution_count": 12,
     "metadata": {},
     "output_type": "execute_result"
    }
   ],
   "source": [
    "a = True\n",
    "b = True\n",
    "a != b"
   ]
  },
  {
   "cell_type": "code",
   "execution_count": null,
   "id": "70386752",
   "metadata": {},
   "outputs": [],
   "source": []
  },
  {
   "cell_type": "markdown",
   "id": "9d5f5a80-22b3-4403-802a-1c69295cc527",
   "metadata": {},
   "source": [
    "## Condional Operators"
   ]
  },
  {
   "cell_type": "raw",
   "id": "e7bfc988-eda3-4f74-b2ab-3a4d5f79735d",
   "metadata": {},
   "source": [
    "1. == -> checks if the value of a is equals to the value of b\n",
    "2. != -> checks if the value of a is not equal to the value of b\n",
    "3. > -> checks if the value of a is greater than the value of b\n",
    "4. < -> checks if the value of a is lesser than the value of b\n",
    "5. >= -> checks if the value of a is greater than or equals to the value of b\n",
    "6. <= -> checks if the value of a is lesser than or equals to the value of b"
   ]
  },
  {
   "cell_type": "markdown",
   "id": "e45e6886",
   "metadata": {},
   "source": [
    "## Strings"
   ]
  },
  {
   "cell_type": "markdown",
   "id": "a52e0f30",
   "metadata": {},
   "source": [
    "#### Slicing of Strings"
   ]
  },
  {
   "cell_type": "code",
   "execution_count": 6,
   "id": "2548f711",
   "metadata": {},
   "outputs": [
    {
     "name": "stdout",
     "output_type": "stream",
     "text": [
      "H\n",
      "d\n",
      "ello W\n",
      "Hello Worl\n"
     ]
    }
   ],
   "source": [
    "mystr = \"Hello World\"\n",
    "print(mystr[0])\n",
    "print(mystr[-1])\n",
    "print(mystr[1:7])\n",
    "print(mystr[:-1])"
   ]
  },
  {
   "cell_type": "code",
   "execution_count": 26,
   "id": "623e3a2d",
   "metadata": {},
   "outputs": [
    {
     "name": "stdout",
     "output_type": "stream",
     "text": [
      "Hello W\n"
     ]
    }
   ],
   "source": [
    "mystr = \"Hello World\"\n",
    "print(mystr[:7])"
   ]
  },
  {
   "cell_type": "code",
   "execution_count": 7,
   "id": "1b4e89b8",
   "metadata": {},
   "outputs": [
    {
     "name": "stdout",
     "output_type": "stream",
     "text": [
      "H\n",
      "e\n",
      "l\n",
      "l\n",
      "o\n",
      " \n",
      "W\n",
      "o\n",
      "r\n",
      "l\n",
      "d\n"
     ]
    }
   ],
   "source": [
    "for i in mystr: # Hello World\n",
    "    print(i)"
   ]
  },
  {
   "cell_type": "code",
   "execution_count": 8,
   "id": "e4b0ae3b",
   "metadata": {},
   "outputs": [
    {
     "data": {
      "text/plain": [
       "11"
      ]
     },
     "execution_count": 8,
     "metadata": {},
     "output_type": "execute_result"
    }
   ],
   "source": [
    "len(mystr)"
   ]
  },
  {
   "cell_type": "code",
   "execution_count": 27,
   "id": "170478f7",
   "metadata": {},
   "outputs": [
    {
     "name": "stdout",
     "output_type": "stream",
     "text": [
      "count of 'o' in Hello World is 2\n"
     ]
    }
   ],
   "source": [
    "count = 0\n",
    "for i in mystr:\n",
    "    if i == 'o':\n",
    "        count = count+1\n",
    "print(\"count of 'o' in\",mystr,\"is\", count)"
   ]
  },
  {
   "cell_type": "markdown",
   "id": "40eb942e",
   "metadata": {},
   "source": [
    "#### Split and Replace of Strings"
   ]
  },
  {
   "cell_type": "code",
   "execution_count": 10,
   "id": "11474aaa",
   "metadata": {},
   "outputs": [
    {
     "data": {
      "text/plain": [
       "['Hello', 'World']"
      ]
     },
     "execution_count": 10,
     "metadata": {},
     "output_type": "execute_result"
    }
   ],
   "source": [
    "mystr.split()"
   ]
  },
  {
   "cell_type": "code",
   "execution_count": 11,
   "id": "36d1eaef",
   "metadata": {},
   "outputs": [
    {
     "data": {
      "text/plain": [
       "6"
      ]
     },
     "execution_count": 11,
     "metadata": {},
     "output_type": "execute_result"
    }
   ],
   "source": [
    "mystr.find(\"W\")"
   ]
  },
  {
   "cell_type": "code",
   "execution_count": 29,
   "id": "19c17430",
   "metadata": {},
   "outputs": [
    {
     "data": {
      "text/plain": [
       "'hello World'"
      ]
     },
     "execution_count": 29,
     "metadata": {},
     "output_type": "execute_result"
    }
   ],
   "source": [
    "str1 = mystr.replace(\"H\",\"h\")\n",
    "str1"
   ]
  },
  {
   "cell_type": "markdown",
   "id": "fe8e249e",
   "metadata": {},
   "source": [
    "#### Reverse of Strings"
   ]
  },
  {
   "cell_type": "code",
   "execution_count": 31,
   "id": "ef9c963a",
   "metadata": {},
   "outputs": [
    {
     "name": "stdout",
     "output_type": "stream",
     "text": [
      "['d', 'l', 'r', 'o', 'W', ' ', 'o', 'l', 'l', 'e', 'H']\n"
     ]
    }
   ],
   "source": [
    "mystr = \"Hello World\"\n",
    "a = list(mystr)\n",
    "reversed_list = a[::-1]\n",
    "print(reversed_list)\n",
    "\n",
    "str1 = reversed(mystr)\n",
    "# print(str1)\n",
    "print(list(str1))"
   ]
  },
  {
   "cell_type": "markdown",
   "id": "95d8929c",
   "metadata": {},
   "source": [
    "#### Sorting of Strings"
   ]
  },
  {
   "cell_type": "code",
   "execution_count": 33,
   "id": "08905ed9",
   "metadata": {},
   "outputs": [
    {
     "name": "stdout",
     "output_type": "stream",
     "text": [
      "['The', 'brown', 'dog', 'fox', 'jumps', 'lazy', 'over', 'quick', 'the']\n"
     ]
    }
   ],
   "source": [
    "sentnc = \"The quick brown fox jumps over the lazy dog\"\n",
    "words = sentnc.split()\n",
    "words.sort()\n",
    "print(words)"
   ]
  },
  {
   "cell_type": "markdown",
   "id": "da76ea71",
   "metadata": {},
   "source": [
    "#### 'in' and \"not\" in a String\n"
   ]
  },
  {
   "cell_type": "code",
   "execution_count": 38,
   "id": "eba90b94",
   "metadata": {},
   "outputs": [
    {
     "name": "stdout",
     "output_type": "stream",
     "text": [
      "False\n"
     ]
    }
   ],
   "source": [
    "mystr = \"Hello World\"\n",
    "\n",
    "print ( 'i' in mystr)"
   ]
  },
  {
   "cell_type": "code",
   "execution_count": 39,
   "id": "4d4351bd",
   "metadata": {},
   "outputs": [
    {
     "name": "stdout",
     "output_type": "stream",
     "text": [
      "True\n"
     ]
    }
   ],
   "source": [
    "print ( 'i' not in mystr)"
   ]
  },
  {
   "cell_type": "markdown",
   "id": "5e5641c9-7bb8-413a-b7ad-83122519594b",
   "metadata": {},
   "source": [
    "### Lists\n",
    "Lists are collection of strings, integers oreven another list, enclosed within [].They have an index assigned to it. A list index always starts from 0"
   ]
  },
  {
   "cell_type": "code",
   "execution_count": 17,
   "id": "82d7cf3b",
   "metadata": {},
   "outputs": [
    {
     "name": "stdout",
     "output_type": "stream",
     "text": [
      "<class 'list'>\n"
     ]
    }
   ],
   "source": [
    "lst=[1,2,3]\n",
    "print(type(lst))"
   ]
  },
  {
   "cell_type": "markdown",
   "id": "0b6c28e6-5490-4046-a8d2-b5cbb85bd411",
   "metadata": {},
   "source": [
    "#### Lists, having different set of values."
   ]
  },
  {
   "cell_type": "code",
   "execution_count": 18,
   "id": "0c297bee-17f4-466a-81ba-419254c28058",
   "metadata": {},
   "outputs": [
    {
     "name": "stdout",
     "output_type": "stream",
     "text": [
      "[1, 2, 3]\n",
      "['one', 'two', 'three']\n",
      "[1, 2, 'three', [5, 6]]\n"
     ]
    }
   ],
   "source": [
    "a=[1,2,3]\n",
    "b=['one','two','three']\n",
    "c=[1,2,'three',[5,6]]\n",
    "print(a)\n",
    "print(b)\n",
    "print(c)"
   ]
  },
  {
   "cell_type": "markdown",
   "id": "c32ea8b9-f13c-40d9-8155-8c881f8f1402",
   "metadata": {},
   "source": [
    "#### Accesing values in lists\n"
   ]
  },
  {
   "cell_type": "code",
   "execution_count": 19,
   "id": "31dcd87b-6a4d-47a1-a17c-e35f2bb5a875",
   "metadata": {},
   "outputs": [
    {
     "name": "stdout",
     "output_type": "stream",
     "text": [
      "First element of list 'a':  1\n",
      "Elements from index 1 to 3 in list 'c':  [1, 2, 'three']\n"
     ]
    }
   ],
   "source": [
    "print (\"First element of list 'a': \", a[0])\n",
    "print (\"Elements from index 1 to 3 in list 'c': \", c[0:3]) # will always stop at n-1 position"
   ]
  },
  {
   "cell_type": "markdown",
   "id": "4136f6b7-dabb-483d-a93d-fc61544eccf3",
   "metadata": {},
   "source": [
    "#### Insertion of values\n"
   ]
  },
  {
   "cell_type": "code",
   "execution_count": 20,
   "id": "f87a98ab-060c-47d4-813f-36bc2d26991e",
   "metadata": {},
   "outputs": [
    {
     "name": "stdout",
     "output_type": "stream",
     "text": [
      "[1, 2, 'three', 3]\n"
     ]
    }
   ],
   "source": [
    "a.insert(2,'three') # Inserts 'three' at 2nd index of list 'a'\n",
    "print(a)"
   ]
  },
  {
   "cell_type": "markdown",
   "id": "5e59eaca-bcd7-4a4b-8661-47ec238e7df1",
   "metadata": {},
   "source": [
    "#### Deletion of values\n"
   ]
  },
  {
   "cell_type": "code",
   "execution_count": 21,
   "id": "a2117daa-926c-4079-8d60-ab4a1d6488ae",
   "metadata": {},
   "outputs": [
    {
     "name": "stdout",
     "output_type": "stream",
     "text": [
      "After deletion:  [1, 2, 3]\n",
      "After pop:  [1, 2]\n"
     ]
    }
   ],
   "source": [
    "del a[2] # Deleted the value at 2nd index in list 'a'\n",
    "print(\"After deletion: \",a)\n",
    "\n",
    "after_pop = a.pop(2) # Deleted the value at 2nd index in list 'a'\n",
    "print(\"After pop: \",a)"
   ]
  },
  {
   "cell_type": "markdown",
   "id": "11c1dc82-5aae-4083-a419-c37da7eb8437",
   "metadata": {},
   "source": [
    "#### Append/Extend two lists\n"
   ]
  },
  {
   "cell_type": "code",
   "execution_count": 22,
   "id": "ecec3ed5-19d0-4e96-b57e-a695a0e34caf",
   "metadata": {},
   "outputs": [
    {
     "name": "stdout",
     "output_type": "stream",
     "text": [
      "[1, 2, [5, 6, 7]]\n",
      "[1, 2, 3, 'five', 'six']\n"
     ]
    }
   ],
   "source": [
    "lst1 = [5,6,7]\n",
    "lst2 = ['five','six']\n",
    "a.append(lst1) # Output will be a list in a list\n",
    "print(a)\n",
    "a=[1,2,3]\n",
    "a.extend(lst2) # Output will be values will be added only\n",
    "print(a)"
   ]
  },
  {
   "cell_type": "markdown",
   "id": "26655943-41e3-4c26-9fdc-340aedb05fbf",
   "metadata": {},
   "source": [
    "#### 'in' and \"not\" in a list\n"
   ]
  },
  {
   "cell_type": "code",
   "execution_count": 23,
   "id": "906990d9-7b2f-4a88-8b02-75313cf0ae03",
   "metadata": {},
   "outputs": [
    {
     "name": "stdout",
     "output_type": "stream",
     "text": [
      "YES\n",
      "That's right!\n"
     ]
    }
   ],
   "source": [
    "a=[1,2,3]\n",
    "if 2 in a: # Checks if 2 as a value is present in list 'a'\n",
    "    print('YES')\n",
    "\n",
    "if 'two' not in a: # Checks if 'two' as a value not present in list 'a'\n",
    "    print(\"That's right!\")"
   ]
  },
  {
   "cell_type": "markdown",
   "id": "d71f6a7b-f667-4878-9760-316f0cdf4efa",
   "metadata": {},
   "source": [
    "#### Built-in functions\n"
   ]
  },
  {
   "cell_type": "code",
   "execution_count": 24,
   "id": "f13222e2-84b4-4a76-9be6-4ef14c04d8af",
   "metadata": {},
   "outputs": [
    {
     "name": "stdout",
     "output_type": "stream",
     "text": [
      "Length of list 'a' is 3\n",
      "Min value of list 'a' is 1\n",
      "Max value of list 'a' is 3\n",
      "Convert tuple into a list [1, 3, 4]\n"
     ]
    }
   ],
   "source": [
    "print(\"Length of list 'a' is\", len(a))\n",
    "print(\"Min value of list 'a' is\", min(a))\n",
    "print(\"Max value of list 'a' is\", max(a))\n",
    "tup=(1,3,4)\n",
    "print(\"Convert tuple into a list\", list(tup))"
   ]
  },
  {
   "cell_type": "markdown",
   "id": "199ba1e5-961c-43e0-ae3c-347afd4a9494",
   "metadata": {},
   "source": [
    "#### Reverse list items\n"
   ]
  },
  {
   "cell_type": "code",
   "execution_count": 25,
   "id": "e60b59d2-6a39-4425-8538-20720bbcaabc",
   "metadata": {},
   "outputs": [
    {
     "name": "stdout",
     "output_type": "stream",
     "text": [
      "First way to reverse list: [[5, 6], 'three', 2, 1]\n",
      "Second way to reverse a list: [3, 2, 1]\n",
      "original list 'a': [1, 2, 3]\n"
     ]
    }
   ],
   "source": [
    "c=[1,2,'three',[5,6]]\n",
    "a=[1,2,3]\n",
    "c.reverse()\n",
    "print(\"First way to reverse list:\",c)\n",
    "reverse_a = list(reversed(a))\n",
    "print(\"Second way to reverse a list:\",reverse_a)\n",
    "print(\"original list 'a':\",a)\n",
    "\n",
    "# Uncomment the below lines to run it.\n",
    "# c=[1,2,'three']\n",
    "# d=c\n",
    "# d.reverse() # Once list 'd' is reversed, it points to the list ['three', 2, 1]. Since List 'c' and 'd' point to the same list, 'c' will give the same result as of 'd'.\n",
    "# print(\"Reversed list\",d)\n",
    "# print(\"original list\",c)"
   ]
  },
  {
   "cell_type": "markdown",
   "id": "9cdd130c-5f58-49ea-b8bb-7b561cb2441b",
   "metadata": {},
   "source": [
    "#### Sorting list items\n"
   ]
  },
  {
   "cell_type": "code",
   "execution_count": 26,
   "id": "e8a9f089-9c08-438d-ba6f-af061e092453",
   "metadata": {},
   "outputs": [
    {
     "name": "stdout",
     "output_type": "stream",
     "text": [
      "First way to sort list: [1, 2, 3, 3]\n",
      "First way to sort list 'a': [1, 2, 3, 3]\n",
      "original list: [3, 1, 2, 3]\n"
     ]
    }
   ],
   "source": [
    "a=[3,1,2,3]\n",
    "b=[3,1,2,3]\n",
    "c=[3,1,2,'three']\n",
    "b.sort()\n",
    "print(\"First way to sort list:\",b)\n",
    "sort_lst_a = sorted(a)\n",
    "print(\"First way to sort list 'a':\",sort_lst_a)\n",
    "print(\"original list:\",a)\n",
    "\n",
    "# Cannot sort combination of string and numbers. Uncomment the below lines to run it and check the error.\n",
    "# sort_lst_c = sorted(c)\n",
    "# print(sort_lst_c)"
   ]
  },
  {
   "cell_type": "markdown",
   "id": "3973ae7c-df93-4ac4-8253-ee1ac17cfa7a",
   "metadata": {},
   "source": [
    "#### Split a string\n"
   ]
  },
  {
   "cell_type": "code",
   "execution_count": 27,
   "id": "3e168504-23fe-490e-8db8-fe2cfe2f8feb",
   "metadata": {},
   "outputs": [
    {
     "name": "stdout",
     "output_type": "stream",
     "text": [
      "['1,2,three']\n"
     ]
    }
   ],
   "source": [
    "c='1,2,three'\n",
    "ss=c.split()\n",
    "print(ss)"
   ]
  },
  {
   "cell_type": "markdown",
   "id": "12f0e7a5-ebd4-4a3a-84e2-db8188636403",
   "metadata": {},
   "source": [
    "#### Slicing a list\n"
   ]
  },
  {
   "cell_type": "code",
   "execution_count": 28,
   "id": "9ca3feb7-a13a-48fc-99c0-694dbda1c2da",
   "metadata": {},
   "outputs": [
    {
     "name": "stdout",
     "output_type": "stream",
     "text": [
      "value of 2nd index: 3\n",
      "Slice -3th element: four\n",
      "Slice values from 1st index: [2, 3, 'four', 'five', 6]\n",
      "Slice values from 0th index till (n-1): [1, 2, 3]\n",
      "Slice all values till (n-1): [1, 2, 3, 'four', 'five']\n",
      "Slice only (n-1)th index: [6]\n",
      "Reverse the list: [6, 'five', 'four', 3, 2, 1]\n",
      "Start from 2nd index and print values with 2 steps [3, 'five']\n",
      "Start from last item and print the reverse with a gap of 2 [6, 'four', 2]\n"
     ]
    }
   ],
   "source": [
    "a = [1,2,3,'four','five',6]\n",
    "print(\"value of 2nd index:\",a[2]) # Starts from 0\n",
    "print(\"Slice -3th element:\",a[-3]) # Starts counting from right. First number from right has index -1\n",
    "print(\"Slice values from 1st index:\",a[1:]) # Shows output from 1st index till the end\n",
    "print(\"Slice values from 0th index till (n-1):\",a[0:3]) # Shows output from 0th index to (3-1)th index\n",
    "print(\"Slice all values till (n-1):\",a[:-1]) # Shows output from the 1st value till (n-1)\n",
    "print(\"Slice only (n-1)th index:\",a[-1:]) # Shows output from1st index till the end\n",
    "print(\"Reverse the list:\", a[::-1])\n",
    "print(\"Start from 2nd index and print values with 2 steps\", a[2::2])\n",
    "print(\"Start from last item and print the reverse with a gap of 2\", a[::-2])"
   ]
  },
  {
   "cell_type": "markdown",
   "id": "58d07cf0-343c-4f88-8493-7bda48dcb551",
   "metadata": {},
   "source": [
    "#### List Operations\n"
   ]
  },
  {
   "cell_type": "code",
   "execution_count": 29,
   "id": "00eaf2d7-8f7f-4bad-8150-a42aed8b50e2",
   "metadata": {},
   "outputs": [
    {
     "name": "stdout",
     "output_type": "stream",
     "text": [
      "1. Concatenation of list 'a' and 'b': [1, 2, 3, 'one', 'two', 'three']\n",
      "2. Repetiotion of list 'a' for 4 times: ['one', 'two', 'three', 'one', 'two', 'three', 'one', 'two', 'three', 'one', 'two', 'three']\n",
      "3. Is the vaue 3 in list 'c'? False\n",
      "4. Sum of list 'a' is 6\n",
      "5. Count of frequency of the value 3 in a list 3\n",
      "6. Each value in the list:\n",
      "one\n",
      "two\n",
      "three\n"
     ]
    }
   ],
   "source": [
    "a=[1,2,3]\n",
    "b=['one','two','three']\n",
    "c=[1,2,'three',[5,6]]\n",
    "d=[1,2,3,3,4,5,2,3,4]\n",
    "\n",
    "print(\"1. Concatenation of list 'a' and 'b':\",a+b)\n",
    "print(\"2. Repetiotion of list 'a' for 4 times:\",b*4)\n",
    "print(\"3. Is the vaue 3 in list 'c'?\",3 in c)\n",
    "print(\"4. Sum of list 'a' is\",sum(a))\n",
    "print(\"5. Count of frequency of the value 3 in a list\",d.count(3))\n",
    "print(\"6. Each value in the list:\")\n",
    "for x in ['one','two','three']: # Print each value in a list by looping\n",
    "    print(x)"
   ]
  },
  {
   "cell_type": "markdown",
   "id": "69cf7cb6-2402-4f0f-a312-51056ddd1d9f",
   "metadata": {},
   "source": [
    "#### List Comprehensions\n"
   ]
  },
  {
   "cell_type": "code",
   "execution_count": 30,
   "id": "fbc1b0f7-4e3f-4b25-8029-33157ad6924b",
   "metadata": {},
   "outputs": [
    {
     "name": "stdout",
     "output_type": "stream",
     "text": [
      "[10, 20, 30, 40, 50, 60, 70, 80, 90]\n"
     ]
    }
   ],
   "source": [
    "#without list comprehension\n",
    "\n",
    "mult = []\n",
    "for i in range(10):\n",
    "    if i > 0:\n",
    "        mult.append(i*10)\n",
    "print(mult)"
   ]
  },
  {
   "cell_type": "code",
   "execution_count": 31,
   "id": "1243e36c-9d6a-4139-bd0f-f34597ccad65",
   "metadata": {},
   "outputs": [
    {
     "name": "stdout",
     "output_type": "stream",
     "text": [
      "[10, 20, 30, 40, 50, 60, 70, 80, 90]\n"
     ]
    }
   ],
   "source": [
    "# with list comprehension\n",
    "\n",
    "mult = [i*10 for i in range(10) if i > 0]\n",
    "print(mult)"
   ]
  },
  {
   "cell_type": "code",
   "execution_count": 32,
   "id": "35fba0d4-14dd-4229-b298-4242c23690e9",
   "metadata": {},
   "outputs": [
    {
     "name": "stdout",
     "output_type": "stream",
     "text": [
      "[(0, 1), (1, 2), (2, 3), (3, 4), (4, 5), (5, 6), (6, 7), (7, 8), (8, 9), (9, 10)]\n",
      "[5, 10, 15]\n"
     ]
    }
   ],
   "source": [
    "# Examples:\n",
    "\n",
    "new_var=[(i,i+1) for i in range(10)]\n",
    "print(new_var)\n",
    "\n",
    "new_var1=[(i) for i in range(20) if (i%5==0) and i>0]\n",
    "print(new_var1)"
   ]
  },
  {
   "cell_type": "code",
   "execution_count": 33,
   "id": "0d4fb66b-bdd1-4ea0-9944-523947600366",
   "metadata": {},
   "outputs": [
    {
     "name": "stdout",
     "output_type": "stream",
     "text": [
      "We are going to take column 1\n",
      "The row is [1, 2, 3, 4] we're adding 1 to a temp list\n",
      "The row is [5, 6, 7, 8] we're adding 5 to a temp list\n",
      "The row is [9, 10, 11, 12] we're adding 9 to a temp list\n",
      "Now the 0 th row has [1, 5, 9]\n",
      "We are going to take column 2\n",
      "The row is [1, 2, 3, 4] we're adding 2 to a temp list\n",
      "The row is [5, 6, 7, 8] we're adding 6 to a temp list\n",
      "The row is [9, 10, 11, 12] we're adding 10 to a temp list\n",
      "Now the 1 th row has [2, 6, 10]\n",
      "We are going to take column 3\n",
      "The row is [1, 2, 3, 4] we're adding 3 to a temp list\n",
      "The row is [5, 6, 7, 8] we're adding 7 to a temp list\n",
      "The row is [9, 10, 11, 12] we're adding 11 to a temp list\n",
      "Now the 2 th row has [3, 7, 11]\n",
      "We are going to take column 4\n",
      "The row is [1, 2, 3, 4] we're adding 4 to a temp list\n",
      "The row is [5, 6, 7, 8] we're adding 8 to a temp list\n",
      "The row is [9, 10, 11, 12] we're adding 12 to a temp list\n",
      "Now the 3 th row has [4, 8, 12]\n",
      "Final transposed matrix is [[1, 5, 9], [2, 6, 10], [3, 7, 11], [4, 8, 12]]\n"
     ]
    }
   ],
   "source": [
    "# Transpose of a matrix without list comprehension\n",
    "\n",
    "matrix=[\n",
    "    [1, 2, 3, 4],\n",
    "    [5, 6, 7, 8],\n",
    "    [9, 10, 11, 12]\n",
    "]\n",
    "\n",
    "transposed=[]\n",
    "for i in range(4):\n",
    "    print(\"We are going to take column\",i+1)\n",
    "    lst=[]\n",
    "    for row in matrix: # row denotes to each list, i.e, a row in the matrix and iterates for 4 times\n",
    "        # First iteration denotes to 0th column, row[i] is all the items of column 0, i.e., 1,5,9. \n",
    "        # Second iteration denotes to 1st col, row[i] is all the items of col1, i.e., 2,6,10, and so on\n",
    "        # till the last iteration.        \n",
    "        print(\"The row is\",row,\"we're adding\", row[i],\"to a temp list\")\n",
    "        \n",
    "        lst.append(row[i])\n",
    "    \n",
    "    print(\"Now the\",i,'th row has',lst)# Append all the row[i]s to the empty list 'lst' \n",
    "#     print(lst)\n",
    "    transposed.append(lst)\n",
    "print(\"Final transposed matrix is\",transposed)"
   ]
  },
  {
   "cell_type": "code",
   "execution_count": 34,
   "id": "b5f3e9db-eab2-4c67-aaf4-e06694d5e3bb",
   "metadata": {},
   "outputs": [
    {
     "name": "stdout",
     "output_type": "stream",
     "text": [
      "[[1, 5, 9], [2, 6, 10], [3, 7, 11], [4, 8, 12]]\n"
     ]
    }
   ],
   "source": [
    "# With list comprehension\n",
    "\n",
    "matrix=[\n",
    "    [1, 2, 3, 4],\n",
    "    [5, 6, 7, 8],\n",
    "    [9, 10, 11, 12]\n",
    "]\n",
    "transposed=[[row[i] for row in matrix] for i in range(4)]\n",
    "print(transposed)"
   ]
  },
  {
   "cell_type": "markdown",
   "id": "f55f1587-e641-42fb-87e4-cb5446f8c968",
   "metadata": {},
   "source": [
    "## Tuples"
   ]
  },
  {
   "cell_type": "markdown",
   "id": "7d1dce1d-bf22-4b6f-bdad-07967230a856",
   "metadata": {},
   "source": [
    "Elements of a tuple change can't be changed unlike Lists"
   ]
  },
  {
   "cell_type": "code",
   "execution_count": 35,
   "id": "b326b7aa",
   "metadata": {},
   "outputs": [
    {
     "name": "stdout",
     "output_type": "stream",
     "text": [
      "<class 'tuple'>\n"
     ]
    }
   ],
   "source": [
    "tup1 = (1,2,3,'four')\n",
    "print(type(tup1))"
   ]
  },
  {
   "cell_type": "markdown",
   "id": "1a639051-e1ae-4c3d-971a-d88ef8c9b833",
   "metadata": {},
   "source": [
    "#### Accesing values in tuples\n"
   ]
  },
  {
   "cell_type": "code",
   "execution_count": 36,
   "id": "9c8c1a53-00ac-48a1-860a-c796873d9bc0",
   "metadata": {},
   "outputs": [
    {
     "name": "stdout",
     "output_type": "stream",
     "text": [
      "2\n",
      "seven\n",
      "two\n"
     ]
    }
   ],
   "source": [
    "tup1 = (1,2,3,'four')\n",
    "tup2 =((1,\"two\",3),4,5,6,\"seven\")\n",
    "print(tup1[1])\n",
    "print(tup2[-1])\n",
    "print(tup2[0][1]) # Print 1st index item of 0th element in the tuple"
   ]
  },
  {
   "cell_type": "markdown",
   "id": "fa888b9f-a87a-4170-89a8-177f25284648",
   "metadata": {},
   "source": [
    "#### Deletion of an item in a tuple"
   ]
  },
  {
   "cell_type": "markdown",
   "id": "ca5b1af8-a244-43dc-9bb4-69801e705d47",
   "metadata": {},
   "source": [
    "Use del tuple name to delete a tuple completely\n",
    "We cannot delete or add an item in a tuple because it's immutable. To do so we need to change the tuple into a list."
   ]
  },
  {
   "cell_type": "markdown",
   "id": "43c7a82a-a779-4d56-8345-4eab2d4337e7",
   "metadata": {},
   "source": [
    "#### Change a value in a tuple"
   ]
  },
  {
   "cell_type": "code",
   "execution_count": 37,
   "id": "60aa8bed-cc5b-4604-95a1-3ad5b2bb7064",
   "metadata": {},
   "outputs": [
    {
     "name": "stdout",
     "output_type": "stream",
     "text": [
      "([1, 'two', 'three'], 4, 5, 6, 'seven')\n"
     ]
    }
   ],
   "source": [
    "# Only it is possible if there is a list in a tuple\n",
    "tup2 =([1,\"two\",3],4,5,6,\"seven\")\n",
    "tup2[0][2]=\"three\"\n",
    "print(tup2)"
   ]
  },
  {
   "cell_type": "code",
   "execution_count": 38,
   "id": "8f1aad19",
   "metadata": {},
   "outputs": [],
   "source": [
    "## Uncomment and run the below commands to check the output\n",
    "# tup1 =(1,2,3,4)\n",
    "# tup2 = (4,5,6)\n",
    "# print(tup1.append(tup2))\n",
    "# print(tup1.insert(2,'three'))"
   ]
  },
  {
   "cell_type": "code",
   "execution_count": 39,
   "id": "aaa37fe7-a946-4ec6-91a6-6d84f214be1c",
   "metadata": {},
   "outputs": [
    {
     "name": "stdout",
     "output_type": "stream",
     "text": [
      "Length of list 'tup2' is 5\n",
      "Min value of list 'tup1' is 1\n",
      "Max value of list 'tup1' is 4\n",
      "Convert list into a tuple (1, 3, 4)\n"
     ]
    }
   ],
   "source": [
    "tup1 =(1,2,3,4)\n",
    "tup2 =([1,\"two\",3],4,5,6,\"seven\")\n",
    "print(\"Length of list 'tup2' is\", len(tup2))\n",
    "print(\"Min value of list 'tup1' is\", min(tup1))\n",
    "print(\"Max value of list 'tup1' is\", max(tup1))\n",
    "lst=[1,3,4]\n",
    "print(\"Convert list into a tuple\", tuple(lst))"
   ]
  },
  {
   "cell_type": "markdown",
   "id": "c523fda0-38df-42d2-80d0-0ae34e823561",
   "metadata": {},
   "source": [
    "#### 'in' and 'not in' in a tuple"
   ]
  },
  {
   "cell_type": "code",
   "execution_count": 40,
   "id": "c00d23a6-81c0-4bdc-85f6-31a57613620c",
   "metadata": {},
   "outputs": [
    {
     "name": "stdout",
     "output_type": "stream",
     "text": [
      "YES\n",
      "That's right!\n"
     ]
    }
   ],
   "source": [
    "a=(1,2,3)\n",
    "if 2 in a: # Checks if 2 as a value is present in list 'a'\n",
    "    print('YES')\n",
    "\n",
    "if 'two' not in a: # Checks if 'two' as a value not present in list 'a'\n",
    "    print(\"That's right!\")"
   ]
  },
  {
   "cell_type": "markdown",
   "id": "ead04dfa-fd57-4584-9bd7-6b66b02e3c06",
   "metadata": {},
   "source": [
    "#### Slicing a tuple"
   ]
  },
  {
   "cell_type": "code",
   "execution_count": 41,
   "id": "413a298f-96c4-4e6d-af29-4f3caa13c18a",
   "metadata": {},
   "outputs": [
    {
     "name": "stdout",
     "output_type": "stream",
     "text": [
      "value of 2nd index: 3\n",
      "Slice -3th element: four\n",
      "Slice values from 1st index: (2, 3, 'four', 'five', 6)\n",
      "Slice values from 0th index till (n-1): (1, 2, 3)\n",
      "Slice all values till (n-1): (1, 2, 3, 'four', 'five')\n",
      "Slice only (n-1)th index: (6,)\n",
      "Reverse the list: (6, 'five', 'four', 3, 2, 1)\n",
      "Start from 2nd index and print values with 2 steps (3, 'five')\n",
      "Start from last item and print the reverse with a gap of 2 (6, 'four', 2)\n"
     ]
    }
   ],
   "source": [
    "a = (1,2,3,'four','five',6)\n",
    "print(\"value of 2nd index:\",a[2]) # Starts from 0\n",
    "print(\"Slice -3th element:\",a[-3]) # Starts counting from right. First number from right has index -1\n",
    "print(\"Slice values from 1st index:\",a[1:]) # Shows output from 1st index till the end\n",
    "print(\"Slice values from 0th index till (n-1):\",a[0:3]) # Shows output from 0th index to (3-1)th index\n",
    "print(\"Slice all values till (n-1):\",a[:-1]) # Shows output from the 1st value till (n-1)\n",
    "print(\"Slice only (n-1)th index:\",a[-1:]) # Shows output from1st index till the end\n",
    "print(\"Reverse the list:\", a[::-1])\n",
    "print(\"Start from 2nd index and print values with 2 steps\", a[2::2])\n",
    "print(\"Start from last item and print the reverse with a gap of 2\", a[::-2])"
   ]
  },
  {
   "cell_type": "markdown",
   "id": "c800d7ff-ebcd-41ba-ace6-dc0d6da9bbcc",
   "metadata": {},
   "source": [
    "## Sets"
   ]
  },
  {
   "cell_type": "code",
   "execution_count": 42,
   "id": "62c7f12b-e73c-48cb-a6f1-394d52440b45",
   "metadata": {},
   "outputs": [
    {
     "name": "stdout",
     "output_type": "stream",
     "text": [
      "<class 'set'>\n"
     ]
    }
   ],
   "source": [
    "set1={1,2,3}\n",
    "print(type(set1))"
   ]
  },
  {
   "cell_type": "markdown",
   "id": "60bc353f",
   "metadata": {},
   "source": [
    "#### Accesing values in sets\n"
   ]
  },
  {
   "cell_type": "code",
   "execution_count": 43,
   "id": "6db3cc04-a563-4448-aa51-17360853cf6c",
   "metadata": {},
   "outputs": [
    {
     "name": "stdout",
     "output_type": "stream",
     "text": [
      "{1, 2, 3, 4, 5, 6, 7}\n"
     ]
    }
   ],
   "source": [
    "set1 = {2,5,3,4,2,6,3,7,1,5}\n",
    "print(set1)"
   ]
  },
  {
   "cell_type": "code",
   "execution_count": 44,
   "id": "ee951078",
   "metadata": {},
   "outputs": [],
   "source": [
    "## Uncomment and run the below commands to check the output\n",
    "# set1 = {3,6,8}\n",
    "# print(set1[1]) "
   ]
  },
  {
   "cell_type": "markdown",
   "id": "875478e9",
   "metadata": {},
   "source": [
    "#### Insertion of values"
   ]
  },
  {
   "cell_type": "code",
   "execution_count": 45,
   "id": "1b477c1d",
   "metadata": {},
   "outputs": [
    {
     "data": {
      "text/plain": [
       "{1, 2, 3, 4}"
      ]
     },
     "execution_count": 45,
     "metadata": {},
     "output_type": "execute_result"
    }
   ],
   "source": [
    "set1 = {1,2,3}\n",
    "set1.add(4)\n",
    "set1"
   ]
  },
  {
   "cell_type": "code",
   "execution_count": 46,
   "id": "d3210a11",
   "metadata": {},
   "outputs": [
    {
     "data": {
      "text/plain": [
       "{5, 6}"
      ]
     },
     "execution_count": 46,
     "metadata": {},
     "output_type": "execute_result"
    }
   ],
   "source": [
    "set1 = {1,2,3}\n",
    "set2 = {3,5,6}\n",
    "set2.difference(set1)"
   ]
  },
  {
   "cell_type": "code",
   "execution_count": 47,
   "id": "483b837e",
   "metadata": {},
   "outputs": [
    {
     "data": {
      "text/plain": [
       "{1, 2, 3, 4, 5, 6, 7}"
      ]
     },
     "execution_count": 47,
     "metadata": {},
     "output_type": "execute_result"
    }
   ],
   "source": [
    "set1 = {1,2,3}\n",
    "set1.update([4,5],{6,7})\n",
    "set1\n",
    "\n",
    "## Uncomment and run the below command to check the output\n",
    "# set1 = {1,2,3}\n",
    "# set1.update([4,5],{6,7},8)\n",
    "# set1"
   ]
  },
  {
   "cell_type": "markdown",
   "id": "c52d7c51",
   "metadata": {},
   "source": [
    "#### Deletion of values\n"
   ]
  },
  {
   "cell_type": "code",
   "execution_count": 48,
   "id": "62bacea3",
   "metadata": {},
   "outputs": [
    {
     "name": "stdout",
     "output_type": "stream",
     "text": [
      "After discard:  {1, 2, 3}\n",
      "After remove:  {8, 5, 6}\n",
      "After pop:  {2, 3}\n"
     ]
    }
   ],
   "source": [
    "set1 = {1,2,3,4}\n",
    "set2 = {5,6,7,8}\n",
    "\n",
    "set1.discard(4)\n",
    "print(\"After discard: \",set1)\n",
    "set2.remove(7)\n",
    "print(\"After remove: \",set2)\n",
    "set1.pop()\n",
    "print(\"After pop: \",set1)\n",
    "\n",
    "## Uncomment and run the below commands to check the output\n",
    "\n",
    "# set1.pop(2)\n",
    "# print(\"After pop: \",set1)\n",
    "\n",
    "\n",
    "# del set1(2)\n",
    "# print(\"After delete: \",set1)"
   ]
  },
  {
   "cell_type": "markdown",
   "id": "59fa4722",
   "metadata": {},
   "source": [
    "#### 'in' and 'not in' in a Set"
   ]
  },
  {
   "cell_type": "code",
   "execution_count": 49,
   "id": "b41dea69",
   "metadata": {},
   "outputs": [
    {
     "name": "stdout",
     "output_type": "stream",
     "text": [
      "True\n",
      "False\n"
     ]
    }
   ],
   "source": [
    "x = {1,2,3,4}\n",
    "\n",
    "print(1 in x)\n",
    "print(2 not in x)"
   ]
  },
  {
   "cell_type": "markdown",
   "id": "ee09039b",
   "metadata": {},
   "source": [
    "#### Set operations"
   ]
  },
  {
   "cell_type": "code",
   "execution_count": 50,
   "id": "a7c72f6c",
   "metadata": {},
   "outputs": [
    {
     "name": "stdout",
     "output_type": "stream",
     "text": [
      "{1, 2, 3, 4, 5, 6, 7, 8}\n",
      "{1, 2, 3, 4, 5, 6, 7, 8}\n"
     ]
    }
   ],
   "source": [
    "# Union : All the elements of Set A and Set B\n",
    "\n",
    "set1 = {1,2,3,4,5}\n",
    "set2 = {4,5,6,7,8}\n",
    "print(set1 | set2) #OR\n",
    "print(set1.union(set2))"
   ]
  },
  {
   "cell_type": "code",
   "execution_count": 51,
   "id": "ef7e142b",
   "metadata": {},
   "outputs": [
    {
     "name": "stdout",
     "output_type": "stream",
     "text": [
      "{4, 5}\n",
      "{4, 5}\n"
     ]
    }
   ],
   "source": [
    "# Intersection : Common elements of Set A and Set B\n",
    "\n",
    "set1 = {1,2,3,4,5}\n",
    "set2 = {4,5,6,7,8}\n",
    "print(set1 & set2) #OR\n",
    "print(set1.intersection(set2))"
   ]
  },
  {
   "cell_type": "code",
   "execution_count": 52,
   "id": "36a39244",
   "metadata": {},
   "outputs": [
    {
     "data": {
      "text/plain": [
       "True"
      ]
     },
     "execution_count": 52,
     "metadata": {},
     "output_type": "execute_result"
    }
   ],
   "source": [
    "# Disjoint sets: No elements are in common\n",
    "\n",
    "set1 = {1,2,3}\n",
    "set2 = {4,5,6}\n",
    "set1.isdisjoint(set2)"
   ]
  },
  {
   "cell_type": "code",
   "execution_count": 53,
   "id": "7811aa74",
   "metadata": {},
   "outputs": [
    {
     "name": "stdout",
     "output_type": "stream",
     "text": [
      "True\n",
      "False\n"
     ]
    }
   ],
   "source": [
    "# Subset: If Set A is contained in Set B then Set A is subset of Set B or viceversa\n",
    "\n",
    "set1 = {1,2,3}\n",
    "set2 = {1,2}\n",
    "print(set2.issubset(set1))\n",
    "print(set1.issubset(set2))"
   ]
  },
  {
   "cell_type": "code",
   "execution_count": 54,
   "id": "69424b39",
   "metadata": {},
   "outputs": [
    {
     "name": "stdout",
     "output_type": "stream",
     "text": [
      "False\n",
      "True\n"
     ]
    }
   ],
   "source": [
    "# Supersetset: If Set A contains all the values of Set B then Set A is superset of Set B or viceversa\n",
    "\n",
    "set1 = {1,2,3}\n",
    "set2 = {1,2}\n",
    "print(set2.issuperset(set1))\n",
    "print(set1.issuperset(set2))"
   ]
  },
  {
   "cell_type": "code",
   "execution_count": 55,
   "id": "1cf2feab",
   "metadata": {},
   "outputs": [
    {
     "data": {
      "text/plain": [
       "{frozenset({1}): 'foo', frozenset({2}): 'bar'}"
      ]
     },
     "execution_count": 55,
     "metadata": {},
     "output_type": "execute_result"
    }
   ],
   "source": [
    "# Use frozen set as Dict keys\n",
    "x = frozenset({1})\n",
    "y = frozenset({2})\n",
    "d = {x: 'foo', y: 'bar'}\n",
    "d"
   ]
  },
  {
   "cell_type": "markdown",
   "id": "dddca35c",
   "metadata": {},
   "source": [
    "#### Conversion"
   ]
  },
  {
   "cell_type": "code",
   "execution_count": 56,
   "id": "dc9a5a68",
   "metadata": {},
   "outputs": [
    {
     "name": "stdout",
     "output_type": "stream",
     "text": [
      "List to Set:  {1, 2, 3, 4, 8}\n",
      "Tuple to Set is unordered:  {'b', 'c', 'a'}\n",
      "Define set with string and tuple:  {42, (1, 2, 3), 'str', 7.8}\n"
     ]
    }
   ],
   "source": [
    "set1 = set([1,2,3,4,3,8,2,3,8])\n",
    "print(\"List to Set: \",set1)\n",
    "\n",
    "set2 = set(('a', 'b', 'c', 'a', 'b'))\n",
    "print(\"Tuple to Set is unordered: \",set2)\n",
    "\n",
    "x = {42, 'str', (1, 2, 3), 7.8}\n",
    "print(\"Define set with string and tuple: \",x)\n",
    "\n",
    "## Uncomment and run the below commands to check the output\n",
    "\n",
    "# x = {42, 'str', [1, 2, 3], 7.8}\n",
    "# print(\"Define set with string and list: \",x)"
   ]
  },
  {
   "cell_type": "markdown",
   "id": "eb5f4bea",
   "metadata": {},
   "source": [
    "## Dictionaries"
   ]
  },
  {
   "cell_type": "code",
   "execution_count": 57,
   "id": "5f8a14f0",
   "metadata": {},
   "outputs": [
    {
     "name": "stdout",
     "output_type": "stream",
     "text": [
      "<class 'dict'>\n"
     ]
    }
   ],
   "source": [
    "dict1={1: 'firstval', 2: 'secondval'}\n",
    "print(type(dict1))"
   ]
  },
  {
   "cell_type": "code",
   "execution_count": 58,
   "id": "f9942918",
   "metadata": {},
   "outputs": [
    {
     "name": "stdout",
     "output_type": "stream",
     "text": [
      "{1: 'firstval', 2: 'secondval'}\n"
     ]
    }
   ],
   "source": [
    "dict1 = dict()\n",
    "dict1=dict([(1,'firstval'), (2,'secondval')])\n",
    "print(dict1)"
   ]
  },
  {
   "cell_type": "markdown",
   "id": "07ad50d1",
   "metadata": {},
   "source": [
    "#### Accesing values in dicts\n"
   ]
  },
  {
   "cell_type": "code",
   "execution_count": 59,
   "id": "353acdb4",
   "metadata": {},
   "outputs": [
    {
     "name": "stdout",
     "output_type": "stream",
     "text": [
      "Only Keys: \n",
      "superhero-1\n",
      "superhero-2\n",
      "superhero-3\n",
      "superhero-4\n",
      "\n",
      "Only Values: \n",
      "Batman\n",
      "Superman\n",
      "WonderWoman\n",
      "IronMan\n",
      "\n",
      "Both Keys and Values: \n",
      "('superhero-1', 'Batman')\n",
      "('superhero-2', 'Superman')\n",
      "('superhero-3', 'WonderWoman')\n",
      "('superhero-4', 'IronMan')\n"
     ]
    }
   ],
   "source": [
    "dict1 = {'superhero-1':'Batman','superhero-2':'Superman','superhero-3':'WonderWoman','superhero-4':'IronMan'}\n",
    "\n",
    "print(\"Only Keys: \")\n",
    "for x in dict1.keys():\n",
    "    print(x)\n",
    "\n",
    "print(\"\\nOnly Values: \")\n",
    "for x in dict1.values():\n",
    "    print(x)\n",
    "\n",
    "print(\"\\nBoth Keys and Values: \")\n",
    "for x in dict1.items():\n",
    "    print(x)"
   ]
  },
  {
   "cell_type": "code",
   "execution_count": 60,
   "id": "c68a02ae",
   "metadata": {},
   "outputs": [
    {
     "name": "stdout",
     "output_type": "stream",
     "text": [
      "Batman\n"
     ]
    }
   ],
   "source": [
    "print(dict1['superhero-1'])"
   ]
  },
  {
   "cell_type": "code",
   "execution_count": 61,
   "id": "72cebd10",
   "metadata": {},
   "outputs": [
    {
     "name": "stdout",
     "output_type": "stream",
     "text": [
      "IronMan\n"
     ]
    }
   ],
   "source": [
    "print(dict1.get('superhero-4'))"
   ]
  },
  {
   "cell_type": "markdown",
   "id": "369206a7",
   "metadata": {},
   "source": [
    "#### Insertion of values\n"
   ]
  },
  {
   "cell_type": "code",
   "execution_count": 62,
   "id": "313ff533",
   "metadata": {},
   "outputs": [
    {
     "name": "stdout",
     "output_type": "stream",
     "text": [
      "Updating key and value:  {'superhero-1': 'Batman', 'superhero-2': 'Superman', 'superhero-3': 'SpiderMan', 'superhero-4': 'IronMan'}\n",
      "Adding key and value:  {'superhero-1': 'Batman', 'superhero-2': 'Superman', 'superhero-3': 'WonderWoman', 'superhero-4': 'IronMan', 'superhero-5': 'SpiderMan'}\n"
     ]
    }
   ],
   "source": [
    "dict1 = {'superhero-1':'Batman','superhero-2':'Superman','superhero-3':'WonderWoman','superhero-4':'IronMan'}\n",
    "dict1['superhero-3']='SpiderMan'\n",
    "print(\"Updating key and value: \",dict1)\n",
    "\n",
    "dict1 = {'superhero-1':'Batman','superhero-2':'Superman','superhero-3':'WonderWoman','superhero-4':'IronMan'}\n",
    "dict1['superhero-5']='SpiderMan'\n",
    "print(\"Adding key and value: \",dict1)"
   ]
  },
  {
   "cell_type": "markdown",
   "id": "806472b2",
   "metadata": {},
   "source": [
    "#### Deletion of Values"
   ]
  },
  {
   "cell_type": "code",
   "execution_count": 63,
   "id": "713154e6",
   "metadata": {},
   "outputs": [
    {
     "name": "stdout",
     "output_type": "stream",
     "text": [
      "After pop:  {'superhero-1': 'Batman', 'superhero-2': 'Superman', 'superhero-3': 'WonderWoman'}\n",
      "After delete:  {'superhero-1': 'Batman', 'superhero-2': 'Superman', 'superhero-3': 'WonderWoman'}\n"
     ]
    }
   ],
   "source": [
    "dict1 = {'superhero-1':'Batman','superhero-2':'Superman','superhero-3':'WonderWoman','superhero-4':'IronMan'}\n",
    "dict1.pop('superhero-4')\n",
    "print(\"After pop: \",dict1)\n",
    "\n",
    "dict1 = {'superhero-1':'Batman','superhero-2':'Superman','superhero-3':'WonderWoman','superhero-4':'IronMan'}\n",
    "del dict1['superhero-4']\n",
    "print(\"After delete: \",dict1)"
   ]
  },
  {
   "cell_type": "markdown",
   "id": "43b89841",
   "metadata": {},
   "source": [
    "#### Slicing of Dict"
   ]
  },
  {
   "cell_type": "code",
   "execution_count": 64,
   "id": "3f6c718a",
   "metadata": {},
   "outputs": [
    {
     "data": {
      "text/plain": [
       "{1: 2, 3: 4}"
      ]
     },
     "execution_count": 64,
     "metadata": {},
     "output_type": "execute_result"
    }
   ],
   "source": [
    "d = {1:2, 3:4, 5:6, 7:8}\n",
    "first_two = dict(list(d.items())[:2])\n",
    "first_two"
   ]
  },
  {
   "cell_type": "code",
   "execution_count": 65,
   "id": "198f08f5",
   "metadata": {},
   "outputs": [
    {
     "data": {
      "text/plain": [
       "{1: 2, 5: 6}"
      ]
     },
     "execution_count": 65,
     "metadata": {},
     "output_type": "execute_result"
    }
   ],
   "source": [
    "# the subset of keys I'm interested in\n",
    "l = (1,5)\n",
    "\n",
    "{key:d[key] for key in set(l) & set(d)}"
   ]
  },
  {
   "cell_type": "markdown",
   "id": "b68f28e9",
   "metadata": {},
   "source": [
    "#### Dict Operations"
   ]
  },
  {
   "cell_type": "code",
   "execution_count": 66,
   "id": "32f04c1b",
   "metadata": {},
   "outputs": [
    {
     "data": {
      "text/plain": [
       "{'Alex': 'Passed', 'Max': 'Passed', 'Sam': 'Passed'}"
      ]
     },
     "execution_count": 66,
     "metadata": {},
     "output_type": "execute_result"
    }
   ],
   "source": [
    "# For all the keys(Alex, Max, Sam), the value is \"Passed\"\n",
    "marks = {}.fromkeys([\"Alex\",\"Max\",\"Sam\"], \"Passed\")\n",
    "marks"
   ]
  },
  {
   "cell_type": "markdown",
   "id": "ede5c7cc",
   "metadata": {},
   "source": [
    "#### Dictionary Comprehension"
   ]
  },
  {
   "cell_type": "code",
   "execution_count": 67,
   "id": "3d184604",
   "metadata": {},
   "outputs": [
    {
     "data": {
      "text/plain": [
       "{3: 4, 5: 6, 7: 8}"
      ]
     },
     "execution_count": 67,
     "metadata": {},
     "output_type": "execute_result"
    }
   ],
   "source": [
    "# Print the pairs who have values greater than 3\n",
    "d = {1:2, 3:4, 5:6, 7:8}\n",
    "newdict = {k:v for k, v in d.items() if v>3}\n",
    "newdict"
   ]
  },
  {
   "cell_type": "markdown",
   "id": "f72a5a32",
   "metadata": {},
   "source": [
    "### Takeaways:\n",
    "\n",
    "Strings:\n",
    "1. Define within \"\"\n",
    "2. Slicing is possible\n",
    "3. Strings are immutable (characters can't be modified)\n",
    "\n",
    "Lists:\n",
    "1. Define within []\n",
    "2. Mutable\n",
    "3. Lists are pointers\n",
    "4. Supports Indexing, Deletion, Addition, Slicing, Sorting, Reversal and several other functions\n",
    "5. List comprehensions are very useful to use\n",
    "\n",
    "Tuples:\n",
    "1. Defind within ()\n",
    "2. Immutable.\n",
    "3. Supports Indexing and Slicing.\n",
    "4. Doesn't support Deletion or Addition.\n",
    "5. Can change a value inside a tuple but if the value is in a list inside the tuple then we can change it. Eg: ([1,2],4,5)\n",
    "\n",
    "Sets:\n",
    "1. Define within {}\n",
    "2. Mutable.\n",
    "3. Indexing is not possible\n",
    "4. Sets can't be used in Dictionaries but Frozen sets can be used as keys in Dictionaries since its immutable.\n",
    "5. Similar like Tuples, Frozen sets don't support add or remove functions but others like union, intersection, difference, etc. is supported\n",
    "\n",
    "Dictionaries:\n",
    "1. Define within {}\n",
    "2. Can be created from a list of tuples\n",
    "3. Keys of a dict behaves like a pointer\n",
    "4. Supports various functions like addition, deletion, modification, slicing, etc.\n",
    "5. Dict comprehension is very important\n"
   ]
  }
 ],
 "metadata": {
  "kernelspec": {
   "display_name": "Python 3",
   "language": "python",
   "name": "python3"
  },
  "language_info": {
   "codemirror_mode": {
    "name": "ipython",
    "version": 3
   },
   "file_extension": ".py",
   "mimetype": "text/x-python",
   "name": "python",
   "nbconvert_exporter": "python",
   "pygments_lexer": "ipython3",
   "version": "3.8.8"
  }
 },
 "nbformat": 4,
 "nbformat_minor": 5
}
