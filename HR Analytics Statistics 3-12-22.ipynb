{
 "cells": [
  {
   "cell_type": "code",
   "execution_count": null,
   "metadata": {
    "id": "3ASczP-c89Vn"
   },
   "outputs": [],
   "source": [
    "# importing the libraries\n",
    "import pandas as pd\n",
    "import numpy as np\n",
    "import matplotlib.pyplot as plt\n",
    "import seaborn as sns"
   ]
  },
  {
   "cell_type": "code",
   "execution_count": null,
   "metadata": {},
   "outputs": [],
   "source": [
    "pd.read_csv('people.csv')"
   ]
  },
  {
   "cell_type": "code",
   "execution_count": null,
   "metadata": {
    "scrolled": true
   },
   "outputs": [],
   "source": [
    "# importing the data\n",
    "df=pd.read_csv(r'C:\\Users\\Dell\\Documents\\people.csv')"
   ]
  },
  {
   "cell_type": "code",
   "execution_count": null,
   "metadata": {
    "colab": {
     "base_uri": "https://localhost:8080/",
     "height": 270
    },
    "id": "sO3qxvCG-xlb",
    "outputId": "28261339-4ab6-40a0-b6cd-e486e4a23902",
    "scrolled": true
   },
   "outputs": [],
   "source": [
    "# display top 5 records\n",
    "df.head()"
   ]
  },
  {
   "cell_type": "code",
   "execution_count": null,
   "metadata": {
    "scrolled": true
   },
   "outputs": [],
   "source": [
    "df.timeSpent.company"
   ]
  },
  {
   "cell_type": "code",
   "execution_count": null,
   "metadata": {},
   "outputs": [],
   "source": [
    "df.salary"
   ]
  },
  {
   "cell_type": "code",
   "execution_count": null,
   "metadata": {
    "id": "1kg3A9wZkI3o"
   },
   "outputs": [],
   "source": [
    "df.rename(columns = {'timeSpent.company':'timeSpent_company'}, inplace = True)"
   ]
  },
  {
   "cell_type": "code",
   "execution_count": null,
   "metadata": {
    "colab": {
     "base_uri": "https://localhost:8080/",
     "height": 270
    },
    "id": "ki82uj9Zj4n6",
    "outputId": "d72d9c08-977d-4e80-d7be-7e3dcdf6ae4f"
   },
   "outputs": [],
   "source": [
    "df.head()"
   ]
  },
  {
   "cell_type": "code",
   "execution_count": null,
   "metadata": {
    "colab": {
     "base_uri": "https://localhost:8080/"
    },
    "id": "QHtyciYg-zcH",
    "outputId": "cc95d5db-80ba-4be7-b49f-4a3b9c003fc7"
   },
   "outputs": [],
   "source": [
    "# checking the shape of dataset (no of rows & no of cols)\n",
    "df.shape"
   ]
  },
  {
   "cell_type": "code",
   "execution_count": null,
   "metadata": {
    "colab": {
     "base_uri": "https://localhost:8080/"
    },
    "id": "MjF4gbm5Wy1F",
    "outputId": "b1a01677-a8f2-484f-da93-998ae3f4340f"
   },
   "outputs": [],
   "source": [
    "# checking for duplicate values\n",
    "df.duplicated().sum()"
   ]
  },
  {
   "cell_type": "code",
   "execution_count": null,
   "metadata": {
    "id": "S8okTeejYbGo"
   },
   "outputs": [],
   "source": [
    "df=df.drop_duplicates(keep=\"first\")"
   ]
  },
  {
   "cell_type": "code",
   "execution_count": null,
   "metadata": {
    "colab": {
     "base_uri": "https://localhost:8080/"
    },
    "id": "KfsmbntDYwom",
    "outputId": "c180efe5-5578-491d-fb9b-bd7720cfbff6",
    "scrolled": true
   },
   "outputs": [],
   "source": [
    "df.shape"
   ]
  },
  {
   "cell_type": "code",
   "execution_count": null,
   "metadata": {},
   "outputs": [],
   "source": [
    "# to check the null value\n",
    "df.isnull().sum()"
   ]
  },
  {
   "cell_type": "markdown",
   "metadata": {
    "id": "K4VRswzHlpnl"
   },
   "source": [
    "Normality Test\n"
   ]
  },
  {
   "cell_type": "markdown",
   "metadata": {
    "id": "jbxgfECV8ZXm"
   },
   "source": [
    "Check whether the data is normally distributed or not in satisfactorylevel column using shapiro-wilk test"
   ]
  },
  {
   "cell_type": "code",
   "execution_count": null,
   "metadata": {
    "colab": {
     "base_uri": "https://localhost:8080/",
     "height": 320
    },
    "id": "QNEwYqvBll6P",
    "outputId": "a6d1bfea-1f1d-4a9b-d46c-6bf170b0e3d8",
    "scrolled": true
   },
   "outputs": [],
   "source": [
    "# plotting histogram to visualize the distribution of data\n",
    "plt.figure(figsize=(10,5))\n",
    "plt.hist(df[\"satisfactoryLevel\"])\n",
    "plt.show()"
   ]
  },
  {
   "cell_type": "code",
   "execution_count": null,
   "metadata": {
    "scrolled": true
   },
   "outputs": [],
   "source": [
    "sns.distplot(df[\"satisfactoryLevel\"])"
   ]
  },
  {
   "cell_type": "code",
   "execution_count": null,
   "metadata": {},
   "outputs": [],
   "source": [
    "sns.kdeplot(x='satisfactoryLevel', data=df)\n"
   ]
  },
  {
   "cell_type": "code",
   "execution_count": null,
   "metadata": {
    "id": "eL_DGnpZmxT7"
   },
   "outputs": [],
   "source": [
    "# h0 - data is normally distributed\n",
    "# h1 - data is not normally distributed"
   ]
  },
  {
   "cell_type": "code",
   "execution_count": null,
   "metadata": {
    "id": "ec47ogYym8K1"
   },
   "outputs": [],
   "source": [
    "from scipy.stats import shapiro"
   ]
  },
  {
   "cell_type": "code",
   "execution_count": null,
   "metadata": {
    "colab": {
     "base_uri": "https://localhost:8080/"
    },
    "id": "hOeP6jiem8Ol",
    "outputId": "47ece2f7-8455-45fc-d2cd-c551f3a56009"
   },
   "outputs": [],
   "source": [
    "stat,p_value=shapiro(df[\"satisfactoryLevel\"])"
   ]
  },
  {
   "cell_type": "code",
   "execution_count": null,
   "metadata": {
    "colab": {
     "base_uri": "https://localhost:8080/"
    },
    "id": "6wnivCa4nYQ1",
    "outputId": "8ee906d1-f6f7-4332-9b76-96e2d505e867",
    "scrolled": true
   },
   "outputs": [],
   "source": [
    "print(p_value)"
   ]
  },
  {
   "cell_type": "code",
   "execution_count": null,
   "metadata": {},
   "outputs": [],
   "source": [
    "print(stat)"
   ]
  },
  {
   "cell_type": "code",
   "execution_count": null,
   "metadata": {
    "id": "a4vcmF-AniDU"
   },
   "outputs": [],
   "source": [
    "# p value is less than 0.05 reject null hypothesis, data is not normally distributed"
   ]
  },
  {
   "cell_type": "code",
   "execution_count": null,
   "metadata": {
    "colab": {
     "base_uri": "https://localhost:8080/"
    },
    "id": "i8ocOPCyYOX-",
    "outputId": "261ed63a-b810-4a4d-ff34-48b94595a2dc"
   },
   "outputs": [],
   "source": [
    "# salary is categorical data\n",
    "df[\"salary\"].unique()"
   ]
  },
  {
   "cell_type": "code",
   "execution_count": null,
   "metadata": {
    "id": "eON_3txiYwrn"
   },
   "outputs": [],
   "source": [
    "df1=df"
   ]
  },
  {
   "cell_type": "code",
   "execution_count": null,
   "metadata": {
    "id": "iFrU-9-yYwzQ"
   },
   "outputs": [],
   "source": [
    "# Converting the cat data into num, using Label Encoder \n",
    "from sklearn.preprocessing import LabelEncoder\n",
    "l1=LabelEncoder()\n",
    "df1[\"salary\"]=l1.fit_transform(df1[\"salary\"])  \n",
    " # fit()-> input the data\n",
    " # transform()->to apply the changes   \n",
    " # fit_transform()-> data will be inputted and necessary canges will be updated onto the object\n"
   ]
  },
  {
   "cell_type": "code",
   "execution_count": null,
   "metadata": {
    "colab": {
     "base_uri": "https://localhost:8080/",
     "height": 270
    },
    "id": "KLwWtA8bYw8r",
    "outputId": "4e8c6c88-efec-4980-97e4-ad7f46cb0103"
   },
   "outputs": [],
   "source": [
    "df1.head()"
   ]
  },
  {
   "cell_type": "code",
   "execution_count": null,
   "metadata": {
    "colab": {
     "base_uri": "https://localhost:8080/",
     "height": 396
    },
    "id": "xTi9Un_kditc",
    "outputId": "88e68c66-26e2-4a93-9941-3d1cd5817443",
    "scrolled": true
   },
   "outputs": [],
   "source": [
    "df1.corr()"
   ]
  },
  {
   "cell_type": "code",
   "execution_count": null,
   "metadata": {},
   "outputs": [],
   "source": [
    "df.head()"
   ]
  },
  {
   "cell_type": "markdown",
   "metadata": {
    "id": "QSUREWlo7H8G"
   },
   "source": [
    "Correlation Graph"
   ]
  },
  {
   "cell_type": "code",
   "execution_count": null,
   "metadata": {
    "colab": {
     "base_uri": "https://localhost:8080/",
     "height": 717
    },
    "id": "gFg8eSrHYxAF",
    "outputId": "07b3d8e7-b3e6-49d0-85f0-eb3beb65d9ad"
   },
   "outputs": [],
   "source": [
    "plt.figure(figsize=(15,10))\n",
    "sns.heatmap(df1.corr(),annot=True,cmap=\"coolwarm\")"
   ]
  },
  {
   "cell_type": "code",
   "execution_count": null,
   "metadata": {
    "scrolled": true
   },
   "outputs": [],
   "source": [
    "# Descriptive statistics\n",
    "df.describe()"
   ]
  },
  {
   "cell_type": "code",
   "execution_count": null,
   "metadata": {
    "colab": {
     "base_uri": "https://localhost:8080/",
     "height": 270
    },
    "id": "NiI99LK0D5W_",
    "outputId": "3df994b2-59b8-40cc-fe76-5cf2eaeb2137",
    "scrolled": true
   },
   "outputs": [],
   "source": [
    "df.head()"
   ]
  },
  {
   "cell_type": "code",
   "execution_count": null,
   "metadata": {
    "id": "XMVdeqlw1Kba"
   },
   "outputs": [],
   "source": [
    "# Random experiment\n",
    "emp=df[(df.satisfactoryLevel>=0)&(df.satisfactoryLevel<=0.50)&(df.timeSpent_company==2)&(df.avgMonthlyHours>=130)&(df.avgMonthlyHours<=200)]"
   ]
  },
  {
   "cell_type": "code",
   "execution_count": null,
   "metadata": {
    "colab": {
     "base_uri": "https://localhost:8080/",
     "height": 270
    },
    "id": "2UzyjmFR1TfB",
    "outputId": "1a8b46d0-a43f-4bcb-e015-3c8c524b1bc9"
   },
   "outputs": [],
   "source": [
    "emp.head()"
   ]
  },
  {
   "cell_type": "code",
   "execution_count": null,
   "metadata": {
    "colab": {
     "base_uri": "https://localhost:8080/"
    },
    "id": "2appCQOi5Usj",
    "outputId": "603346ab-8b08-49a8-9295-0ac1e9682097"
   },
   "outputs": [],
   "source": [
    "emp[\"left\"].value_counts()"
   ]
  },
  {
   "cell_type": "code",
   "execution_count": null,
   "metadata": {
    "colab": {
     "base_uri": "https://localhost:8080/"
    },
    "id": "XtAjyXXx1fYL",
    "outputId": "e9493bc9-bd63-43b3-8ddd-5a27306c406d"
   },
   "outputs": [],
   "source": [
    "emp.shape"
   ]
  },
  {
   "cell_type": "code",
   "execution_count": null,
   "metadata": {
    "colab": {
     "base_uri": "https://localhost:8080/"
    },
    "id": "g1qLmD6o2Ehd",
    "outputId": "71c357d2-db10-4d38-911e-06ebf0639a79"
   },
   "outputs": [],
   "source": [
    "emp[\"avgMonthlyHours\"].mean()"
   ]
  },
  {
   "cell_type": "markdown",
   "metadata": {
    "id": "OQHPZu1N35PD"
   },
   "source": [
    "T-test"
   ]
  },
  {
   "cell_type": "code",
   "execution_count": null,
   "metadata": {
    "id": "Iee8yaexL7vR"
   },
   "outputs": [],
   "source": [
    "# t-test\n",
    "# It is used to determine if there is a significant difference between the means of two groups "
   ]
  },
  {
   "cell_type": "markdown",
   "metadata": {
    "id": "BJ5rgJIf5NyR"
   },
   "source": [
    "One sample t-test"
   ]
  },
  {
   "cell_type": "code",
   "execution_count": null,
   "metadata": {
    "id": "05duFPOLD5ad"
   },
   "outputs": [],
   "source": [
    "# One sample t-test - It tells us whether the means of the sample and the population are different or not"
   ]
  },
  {
   "cell_type": "markdown",
   "metadata": {
    "id": "1B1yuVhwNyCR"
   },
   "source": [
    "The average monthly hours of a employee having 2 years experience is 167. Is it same for employees having more than 2 years experience?\n",
    "\n",
    "Condition - Satisfactory level of a employee is from 0-0.5 and AvgMonthlyhours is from 130-200\n"
   ]
  },
  {
   "cell_type": "code",
   "execution_count": null,
   "metadata": {
    "id": "ziTDqvO1D5To"
   },
   "outputs": [],
   "source": [
    "employee=df[(df.satisfactoryLevel>=0)&(df.satisfactoryLevel<=0.50)&(df.timeSpent_company>=3)&(df.avgMonthlyHours>=130)&(df.avgMonthlyHours<=200)]"
   ]
  },
  {
   "cell_type": "code",
   "execution_count": null,
   "metadata": {
    "colab": {
     "base_uri": "https://localhost:8080/",
     "height": 270
    },
    "id": "UEkniLUEk17A",
    "outputId": "5635c60d-aa3d-46cd-fa81-317a1ab9f6e7"
   },
   "outputs": [],
   "source": [
    "employee.head()"
   ]
  },
  {
   "cell_type": "code",
   "execution_count": null,
   "metadata": {
    "colab": {
     "base_uri": "https://localhost:8080/"
    },
    "id": "KyO6RlEok73V",
    "outputId": "0af6f84b-08da-4296-8778-15a454759430"
   },
   "outputs": [],
   "source": [
    "employee.shape"
   ]
  },
  {
   "cell_type": "code",
   "execution_count": null,
   "metadata": {
    "id": "VmOSoWS8PYyf"
   },
   "outputs": [],
   "source": [
    "# null hypothesis - avg monthly hours of a employee having 2 yrs exp and the employee more than that is same i.e, 167 hrs \n",
    "# alternate hypothesis - avg monthly hours of a employee having 2 yrs exp doesnot have same avg monthly hours with more than 2 yrs exp employee\n"
   ]
  },
  {
   "cell_type": "code",
   "execution_count": null,
   "metadata": {
    "id": "8ec4rrobPY1a"
   },
   "outputs": [],
   "source": [
    "# selecting a random sample\n",
    "sample_size= 100\n",
    "sample1= employee.sample(sample_size,random_state=0)"
   ]
  },
  {
   "cell_type": "code",
   "execution_count": null,
   "metadata": {
    "id": "4gnpw8rpPY5A"
   },
   "outputs": [],
   "source": [
    "# population mean\n",
    "pos_mean=167"
   ]
  },
  {
   "cell_type": "code",
   "execution_count": null,
   "metadata": {
    "colab": {
     "base_uri": "https://localhost:8080/"
    },
    "id": "emsrW8X7mB0j",
    "outputId": "7161bc92-dbec-4462-893d-c77ed0f59438"
   },
   "outputs": [],
   "source": [
    "# sample mean\n",
    "print(sample1[\"avgMonthlyHours\"].mean())"
   ]
  },
  {
   "cell_type": "code",
   "execution_count": null,
   "metadata": {
    "id": "HpluLuWhmB3g"
   },
   "outputs": [],
   "source": [
    "from scipy.stats import ttest_1samp"
   ]
  },
  {
   "cell_type": "code",
   "execution_count": null,
   "metadata": {
    "colab": {
     "base_uri": "https://localhost:8080/"
    },
    "id": "nwM6Zp5pmB6I",
    "outputId": "d7f29f8c-0e7c-4541-dfb6-5f1bc5ba42fa"
   },
   "outputs": [],
   "source": [
    "statistics,pvalue=ttest_1samp(sample1[\"avgMonthlyHours\"],pos_mean)\n",
    "print(statistics,pvalue)"
   ]
  },
  {
   "cell_type": "code",
   "execution_count": null,
   "metadata": {
    "colab": {
     "base_uri": "https://localhost:8080/"
    },
    "id": "tTlnIN90mB8y",
    "outputId": "f3b51536-7c53-4d72-b74b-3a6e0232667b",
    "scrolled": true
   },
   "outputs": [],
   "source": [
    "# Degrees of freedom\n",
    "n=len(employee[\"avgMonthlyHours\"])\n",
    "dof=n-1\n",
    "print(n,dof)"
   ]
  },
  {
   "cell_type": "code",
   "execution_count": null,
   "metadata": {},
   "outputs": [],
   "source": [
    "#df=99"
   ]
  },
  {
   "cell_type": "code",
   "execution_count": null,
   "metadata": {
    "id": "4VQllBRcmB_o"
   },
   "outputs": [],
   "source": [
    "alpha=0.05"
   ]
  },
  {
   "cell_type": "code",
   "execution_count": null,
   "metadata": {
    "id": "P5YemzdWmCB9"
   },
   "outputs": [],
   "source": [
    "from scipy.stats import t"
   ]
  },
  {
   "cell_type": "code",
   "execution_count": null,
   "metadata": {
    "colab": {
     "base_uri": "https://localhost:8080/"
    },
    "id": "ZoKjR0BjmCF5",
    "outputId": "640bd5fe-6e36-4c87-9619-37268d6aaa45"
   },
   "outputs": [],
   "source": [
    "cv=t.ppf([alpha/2,1-alpha/2],df)\n",
    "print(cv)"
   ]
  },
  {
   "cell_type": "code",
   "execution_count": null,
   "metadata": {
    "id": "TeXUxZGRnuLx"
   },
   "outputs": [],
   "source": [
    "# p value is less than 0.05\n",
    "#reject null hypothesis,avg monthly hours is not 167 hours for employees having more than 2 yrs of exp"
   ]
  },
  {
   "cell_type": "code",
   "execution_count": null,
   "metadata": {
    "id": "IuZI5N-Z3uMb"
   },
   "outputs": [],
   "source": [
    "# one sample z test for proportion"
   ]
  },
  {
   "cell_type": "markdown",
   "metadata": {
    "id": "WBRqzbyCQAB-"
   },
   "source": [
    "The percentage of employee leaving the company \n",
    "is 3% having experience of 2 years. Is it\n",
    " same for employees having more than 2\n",
    "years experience?"
   ]
  },
  {
   "cell_type": "code",
   "execution_count": null,
   "metadata": {
    "id": "NAeVcIm2QNgU"
   },
   "outputs": [],
   "source": [
    "# Null hypothesis - percentage of employee leaving the company having the exp of 2 years is same as employee having exp more than 2 yrs\n",
    "# Alternate hypothesis - percentage of employee leaving the company having the exp of 2 years is different from the employee having exp more than 2 yrs"
   ]
  },
  {
   "cell_type": "code",
   "execution_count": null,
   "metadata": {
    "id": "wPJwfAGF3uSb"
   },
   "outputs": [],
   "source": [
    "from statsmodels.stats.proportion import proportions_ztest"
   ]
  },
  {
   "cell_type": "code",
   "execution_count": null,
   "metadata": {
    "id": "Pu5an2dn3uVg"
   },
   "outputs": [],
   "source": [
    "sample_size=100"
   ]
  },
  {
   "cell_type": "code",
   "execution_count": null,
   "metadata": {
    "id": "ou9URCxg3uYx"
   },
   "outputs": [],
   "source": [
    "sample1=employee.sample(sample_size,random_state=0)"
   ]
  },
  {
   "cell_type": "code",
   "execution_count": null,
   "metadata": {
    "id": "xA8WZ1yz3ub6"
   },
   "outputs": [],
   "source": [
    "count=sample1[\"left\"].value_counts()"
   ]
  },
  {
   "cell_type": "code",
   "execution_count": null,
   "metadata": {
    "colab": {
     "base_uri": "https://localhost:8080/"
    },
    "id": "3GH6VOe43ufa",
    "outputId": "069c0d39-15ce-45c4-8b1b-eaefc7a8c234"
   },
   "outputs": [],
   "source": [
    "count"
   ]
  },
  {
   "cell_type": "code",
   "execution_count": null,
   "metadata": {
    "id": "nKtKw1427SF3"
   },
   "outputs": [],
   "source": [
    "nobs=len(sample1[\"left\"])"
   ]
  },
  {
   "cell_type": "code",
   "execution_count": null,
   "metadata": {
    "colab": {
     "base_uri": "https://localhost:8080/"
    },
    "id": "nYyzjbjH7ohz",
    "outputId": "e190f3f6-80a9-4e4d-ce33-0feae32107e4",
    "scrolled": true
   },
   "outputs": [],
   "source": [
    "nobs"
   ]
  },
  {
   "cell_type": "code",
   "execution_count": null,
   "metadata": {
    "id": "ZtSJQlX27axB"
   },
   "outputs": [],
   "source": [
    "p0=0.3"
   ]
  },
  {
   "cell_type": "code",
   "execution_count": null,
   "metadata": {
    "colab": {
     "base_uri": "https://localhost:8080/"
    },
    "id": "UqVl74Qr7az9",
    "outputId": "ededa446-7f40-4452-fa26-a56f5d63d6c3"
   },
   "outputs": [],
   "source": [
    "sample1[\"left\"].value_counts()/nobs"
   ]
  },
  {
   "cell_type": "code",
   "execution_count": null,
   "metadata": {
    "id": "sqSXnW5J7a2v"
   },
   "outputs": [],
   "source": [
    "statistic_oneprop,pvalue_oneprop=proportions_ztest(count=count,nobs=nobs,value=p0,alternative=\"two-sided\",prop_var=False)"
   ]
  },
  {
   "cell_type": "code",
   "execution_count": null,
   "metadata": {
    "colab": {
     "base_uri": "https://localhost:8080/"
    },
    "id": "LgkNCMwa7a5c",
    "outputId": "a726a609-7776-4bd9-b267-0c49111c0640"
   },
   "outputs": [],
   "source": [
    "print(statistic_oneprop,pvalue_oneprop)"
   ]
  },
  {
   "cell_type": "code",
   "execution_count": null,
   "metadata": {
    "id": "Snyf-tlD-Xuq"
   },
   "outputs": [],
   "source": [
    "# p value is greater than 0.05 accept null hypothesis and reject alternate hypothesis \n",
    "# percentage of employee leaving the company having the exp of 2 years is same as employee having exp more than 2 yrs"
   ]
  },
  {
   "cell_type": "code",
   "execution_count": null,
   "metadata": {
    "id": "6RwZSk_K4WEb"
   },
   "outputs": [],
   "source": []
  },
  {
   "cell_type": "code",
   "execution_count": null,
   "metadata": {
    "colab": {
     "base_uri": "https://localhost:8080/"
    },
    "id": "30bzPwtJ7a8c",
    "outputId": "d6a48140-95e4-4ad4-e327-4dc5fe3c25c7"
   },
   "outputs": [],
   "source": [
    "from scipy.stats import norm\n",
    "cv_norm=norm.ppf([alpha/2,1-alpha/2])\n",
    "print(cv_norm)"
   ]
  },
  {
   "cell_type": "markdown",
   "metadata": {
    "id": "BmfwoBhT494F"
   },
   "source": [
    "Two sample t-test"
   ]
  },
  {
   "cell_type": "code",
   "execution_count": null,
   "metadata": {
    "id": "q6W9-U7i7bAO"
   },
   "outputs": [],
   "source": [
    "# Two sample test for means - compared the means of a two independent groups"
   ]
  },
  {
   "cell_type": "code",
   "execution_count": null,
   "metadata": {
    "colab": {
     "base_uri": "https://localhost:8080/",
     "height": 270
    },
    "id": "OQhdAbRXupFh",
    "outputId": "cd6cc872-7c0b-43f2-974e-ef51bd3b6257"
   },
   "outputs": [],
   "source": [
    "df1.head()"
   ]
  },
  {
   "cell_type": "code",
   "execution_count": null,
   "metadata": {
    "colab": {
     "base_uri": "https://localhost:8080/"
    },
    "id": "KxZdaT5avXMh",
    "outputId": "9b04ed37-89a5-4aed-c01f-403f94179ca8"
   },
   "outputs": [],
   "source": [
    "df1[\"timeSpent_company\"].unique()"
   ]
  },
  {
   "cell_type": "markdown",
   "metadata": {
    "id": "8YpYHa_4ZJfq"
   },
   "source": [
    "Is the mean avg monthly hours of a employee having experience of 2-5 yrs is the same as that for employee having exp 6 - 10 yrs ?"
   ]
  },
  {
   "cell_type": "code",
   "execution_count": null,
   "metadata": {
    "id": "Y5IT8Gm7s1X4"
   },
   "outputs": [],
   "source": [
    "# checking the variance of both"
   ]
  },
  {
   "cell_type": "code",
   "execution_count": null,
   "metadata": {
    "id": "tG8_3kmgs1a9"
   },
   "outputs": [],
   "source": [
    "e1=df1[(df1.timeSpent_company>=2) & (df1.timeSpent_company<=5)]\n",
    "e2=df1[(df1.timeSpent_company>=6) & (df1.timeSpent_company<=10)]"
   ]
  },
  {
   "cell_type": "code",
   "execution_count": null,
   "metadata": {
    "colab": {
     "base_uri": "https://localhost:8080/",
     "height": 270
    },
    "id": "a643gBhAs1d-",
    "outputId": "4b9e0dfa-b67b-4548-f8c1-4f8a24b4df83"
   },
   "outputs": [],
   "source": [
    "e1.head()"
   ]
  },
  {
   "cell_type": "code",
   "execution_count": null,
   "metadata": {
    "colab": {
     "base_uri": "https://localhost:8080/"
    },
    "id": "h7iSlxcNs1gh",
    "outputId": "67c92021-b8df-4d5b-be80-f83193ba4a4c"
   },
   "outputs": [],
   "source": [
    "e1.shape"
   ]
  },
  {
   "cell_type": "code",
   "execution_count": null,
   "metadata": {
    "colab": {
     "base_uri": "https://localhost:8080/",
     "height": 270
    },
    "id": "jSiJdEi7s1j6",
    "outputId": "578d7526-3bb1-4aad-f499-5b3f5eac01a7"
   },
   "outputs": [],
   "source": [
    "e2.head()"
   ]
  },
  {
   "cell_type": "code",
   "execution_count": null,
   "metadata": {
    "colab": {
     "base_uri": "https://localhost:8080/"
    },
    "id": "OG0AXHzFs1md",
    "outputId": "5e38c746-03e7-4212-d439-0e4a148779a7"
   },
   "outputs": [],
   "source": [
    "e2.shape"
   ]
  },
  {
   "cell_type": "code",
   "execution_count": null,
   "metadata": {
    "id": "-44bbs04s1sK"
   },
   "outputs": [],
   "source": [
    "s1=e1.sample(200,random_state=0)\n",
    "s2=e2.sample(200,random_state=0)"
   ]
  },
  {
   "cell_type": "code",
   "execution_count": null,
   "metadata": {
    "id": "4I4PGGKxVwIC"
   },
   "outputs": [],
   "source": [
    " import scipy"
   ]
  },
  {
   "cell_type": "code",
   "execution_count": null,
   "metadata": {
    "colab": {
     "base_uri": "https://localhost:8080/"
    },
    "id": "BfrY6bRyUenb",
    "outputId": "5e020102-082f-434d-a7d8-e1d79339cf09"
   },
   "outputs": [],
   "source": [
    "scipy.stats.ttest_ind(s1[\"avgMonthlyHours\"],s2[\"avgMonthlyHours\"])"
   ]
  },
  {
   "cell_type": "code",
   "execution_count": null,
   "metadata": {
    "id": "am6wLqCKYtUJ"
   },
   "outputs": [],
   "source": [
    "# p value > 0.05 Hence accept null hypothesis\n",
    "# The mean avg monthly hours of a employee having experience of 2-5 yrs is the same as that for employee having exp 6 - 10 yrs\n"
   ]
  },
  {
   "cell_type": "markdown",
   "metadata": {
    "id": "m25kYfZdcTEV"
   },
   "source": [
    " F-statistics\n",
    " "
   ]
  },
  {
   "cell_type": "markdown",
   "metadata": {
    "id": "XRUXPyMz6vJv"
   },
   "source": [
    "Compute the f-statistics of the previous problem statement"
   ]
  },
  {
   "cell_type": "code",
   "execution_count": null,
   "metadata": {
    "id": "RV1jGH3f4pGx"
   },
   "outputs": [],
   "source": [
    "# F-test for variance is used to test if the variances of two populations are equal."
   ]
  },
  {
   "cell_type": "code",
   "execution_count": null,
   "metadata": {
    "colab": {
     "base_uri": "https://localhost:8080/"
    },
    "id": "FBFcv15ws1vS",
    "outputId": "3cbea63f-388e-4e49-e6c2-517283d20b6c"
   },
   "outputs": [],
   "source": [
    "# Sample Variance \n",
    "print(s1.avgMonthlyHours.var())\n",
    "print(s2.avgMonthlyHours.var())"
   ]
  },
  {
   "cell_type": "code",
   "execution_count": null,
   "metadata": {
    "colab": {
     "base_uri": "https://localhost:8080/"
    },
    "id": "VyvNhl_5_asM",
    "outputId": "fd485369-9960-4920-e3fa-a6c3144c7a17"
   },
   "outputs": [],
   "source": [
    "# Sample mean\n",
    "print(s1.avgMonthlyHours.mean())\n",
    "print(s2.avgMonthlyHours.mean())"
   ]
  },
  {
   "cell_type": "code",
   "execution_count": null,
   "metadata": {
    "id": "Ci4W8WD-_axu"
   },
   "outputs": [],
   "source": [
    "# Degrees offreedom for sample\n",
    "df1=len(s1)-1\n",
    "df2=len(s2)-1"
   ]
  },
  {
   "cell_type": "code",
   "execution_count": null,
   "metadata": {
    "colab": {
     "base_uri": "https://localhost:8080/"
    },
    "id": "b__VwFzg_avB",
    "outputId": "d280372d-d4ae-416b-cf23-43eb58b4464d"
   },
   "outputs": [],
   "source": [
    "# Computing f statistic\n",
    "from scipy.stats import f\n",
    "F=s1.avgMonthlyHours.var()/s2.avgMonthlyHours.var()\n",
    "print(F)\n"
   ]
  },
  {
   "cell_type": "code",
   "execution_count": null,
   "metadata": {
    "id": "8WZ3KAVTCFG6"
   },
   "outputs": [],
   "source": [
    "import scipy.stats"
   ]
  },
  {
   "cell_type": "code",
   "execution_count": null,
   "metadata": {
    "colab": {
     "base_uri": "https://localhost:8080/"
    },
    "id": "n-mbfyRK_a0e",
    "outputId": "b3cbadcf-68ee-47b9-aa47-9d78a02a6db4"
   },
   "outputs": [],
   "source": [
    "scipy.stats.f.cdf(F, df1, df2)"
   ]
  },
  {
   "cell_type": "code",
   "execution_count": null,
   "metadata": {
    "colab": {
     "base_uri": "https://localhost:8080/"
    },
    "id": "Cmno_5Bw_a4A",
    "outputId": "48619a7e-7045-41d4-c434-2d9c19e7e6a2"
   },
   "outputs": [],
   "source": [
    "f.ppf([alpha/2,1-alpha/2],df1, df2)"
   ]
  },
  {
   "cell_type": "code",
   "execution_count": null,
   "metadata": {
    "id": "pscOZikegOSd"
   },
   "outputs": [],
   "source": [
    "# p value is >0.15, accept null hypothesis, equal variances"
   ]
  }
 ],
 "metadata": {
  "colab": {
   "collapsed_sections": [],
   "provenance": []
  },
  "kernelspec": {
   "display_name": "Python 3 (ipykernel)",
   "language": "python",
   "name": "python3"
  },
  "language_info": {
   "codemirror_mode": {
    "name": "ipython",
    "version": 3
   },
   "file_extension": ".py",
   "mimetype": "text/x-python",
   "name": "python",
   "nbconvert_exporter": "python",
   "pygments_lexer": "ipython3",
   "version": "3.9.12"
  }
 },
 "nbformat": 4,
 "nbformat_minor": 1
}
